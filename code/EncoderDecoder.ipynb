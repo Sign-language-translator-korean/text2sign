{
 "cells": [
  {
   "cell_type": "code",
   "execution_count": 1,
   "id": "03f32535-be1d-41c8-928d-bf4ba9465165",
   "metadata": {},
   "outputs": [],
   "source": [
    "import os\n",
    "import re\n",
    "import json\n",
    "import pickle\n",
    "\n",
    "import fasttext\n",
    "\n",
    "import shutil\n",
    "\n",
    "import time\n",
    "from tqdm import tqdm\n",
    "import math\n",
    "\n",
    "import numpy as np\n",
    "\n",
    "from sklearn.preprocessing import StandardScaler, MinMaxScaler\n",
    "from sklearn.model_selection import KFold\n",
    "\n",
    "import torch\n",
    "import torch.nn as nn\n",
    "import torch.nn.functional as F\n",
    "from torch.utils.data import Dataset, DataLoader\n",
    "from torch.optim import Adam, AdamW\n",
    "from torch.optim.lr_scheduler import CosineAnnealingLR, ReduceLROnPlateau\n",
    "\n",
    "from transformers import AutoTokenizer, AutoModel"
   ]
  },
  {
   "cell_type": "code",
   "execution_count": 2,
   "id": "490ccdc7",
   "metadata": {},
   "outputs": [],
   "source": [
    "words = np.load('/home/sju/HyoJun/Creative_semester_system/words.npy')\n",
    "words = words.tolist()\n",
    "y_data1 = np.load('/home/sju/HyoJun/Creative_semester_system/y_data1.npy')"
   ]
  },
  {
   "cell_type": "code",
   "execution_count": 3,
   "id": "217ca0c7",
   "metadata": {},
   "outputs": [],
   "source": [
    "class TrainDataset(Dataset):\n",
    "    def __init__(self, words, landmarks):\n",
    "        self.words = words\n",
    "        self.landmarks = torch.tensor(landmarks, dtype=torch.float32)  # (N, T, L, D)\n",
    "\n",
    "    def __len__(self):\n",
    "        return len(self.words)\n",
    "\n",
    "    def __getitem__(self, idx):\n",
    "        word = self.words[idx]                # str or list of str\n",
    "        landmark_seq = self.landmarks[idx]    # (T, L, D)\n",
    "        return word, landmark_seq\n",
    "\n",
    "class TestDataset(Dataset):\n",
    "    def __init__(self, words, landmarks):\n",
    "        self.words = words\n",
    "        self.landmarks = torch.tensor(landmarks, dtype=torch.float32)\n",
    "        self.first_frame = self.landmarks[:, 0, :, :]  # (N, L, D)\n",
    "\n",
    "    def __len__(self):\n",
    "        return len(self.words)\n",
    "\n",
    "    def __getitem__(self, idx):\n",
    "        word = self.words[idx]\n",
    "        first_frame = self.first_frame[idx]   # (L, D)\n",
    "        return word, first_frame"
   ]
  },
  {
   "cell_type": "code",
   "execution_count": 4,
   "id": "9d6d323b",
   "metadata": {},
   "outputs": [],
   "source": [
    "class WordEmbeddingDecoderModel(nn.Module):\n",
    "    def __init__(self, ft_model_path, hidden_size, num_frames, num_landmarks, dim):\n",
    "        super(WordEmbeddingDecoderModel, self).__init__()\n",
    "        self.num_frames = num_frames\n",
    "        self.num_landmarks = num_landmarks\n",
    "        self.dim = dim\n",
    "        self.hidden_size = hidden_size\n",
    "\n",
    "        self.ft = fasttext.load_model(ft_model_path)\n",
    "        self.embedding_dim = self.ft.get_dimension()\n",
    "        \n",
    "        self.encoder_proj = nn.Linear(self.embedding_dim, hidden_size)\n",
    "\n",
    "        self.decoder_input_proj = nn.Linear(num_landmarks * dim, hidden_size)\n",
    "\n",
    "        self.decoder_layer = nn.TransformerDecoderLayer(\n",
    "            d_model=hidden_size,\n",
    "            nhead=8,\n",
    "            dim_feedforward=hidden_size//2,\n",
    "            dropout=0.3,\n",
    "            activation='relu',\n",
    "            batch_first=True\n",
    "        )\n",
    "        self.transformer_decoder = nn.TransformerDecoder(self.decoder_layer, num_layers=8)\n",
    "\n",
    "        self.fc = nn.Linear(hidden_size, num_landmarks * dim)\n",
    "\n",
    "    def encode_text(self, batch_words, device='cuda'):\n",
    "        \n",
    "        batch_embeddings = []\n",
    "        for words in batch_words:\n",
    "            word_embeds = [self.ft.get_word_vector(w) for w in words]\n",
    "            batch_embeddings.append(word_embeds)\n",
    "        \n",
    "        embeddings = torch.tensor(batch_embeddings).to(device)\n",
    "        embeddings = self.encoder_proj(embeddings)\n",
    "        \n",
    "        return embeddings\n",
    "        \n",
    "\n",
    "    def forward(self, words, decoder_input: torch.Tensor, device: torch.device):\n",
    "        \n",
    "        memory = self.encode_text(words, device)\n",
    "\n",
    "        # Prepare decoder input\n",
    "        decoder_input = decoder_input.to(device) \n",
    "        \n",
    "        batch_size = decoder_input.size(0)\n",
    "        num_frames = decoder_input.size(1)\n",
    "        \n",
    "        decoder_input_flat = decoder_input.view(batch_size, num_frames, -1)\n",
    "        decoder_input_proj = self.decoder_input_proj(decoder_input_flat)  # (B, T, hidden_size)\n",
    "\n",
    "        # Create autoregressive mask\n",
    "        tgt_mask = torch.triu(torch.ones(num_frames, num_frames), diagonal=1).bool().to(device)\n",
    "\n",
    "        # Decode\n",
    "        decoder_output = self.transformer_decoder(\n",
    "            tgt=decoder_input_proj,\n",
    "            memory=memory,\n",
    "            tgt_mask=tgt_mask\n",
    "        )  # (B, T, hidden_size)\n",
    "\n",
    "        output = self.fc(decoder_output)  # (B, T, L*D)\n",
    "        output = output.view(batch_size, num_frames, self.num_landmarks, self.dim)\n",
    "\n",
    "        return output"
   ]
  },
  {
   "cell_type": "code",
   "execution_count": 5,
   "id": "3625fb30-f173-4bd8-ba4c-f65f98943d06",
   "metadata": {},
   "outputs": [],
   "source": [
    "#MODEL = BERT\n",
    "HIDDEN_SIZE = 768\n",
    "NUM_FRAMES = y_data1.shape[1]\n",
    "NUM_LANDMARKS = y_data1.shape[2]\n",
    "DIM = 2\n",
    "\n",
    "EPOCHS = 200\n",
    "BATCH_SIZE = 1\n",
    "LR = 1e-6"
   ]
  },
  {
   "cell_type": "code",
   "execution_count": 6,
   "id": "50429af7-3c2c-4b85-b470-91029a745ddb",
   "metadata": {},
   "outputs": [],
   "source": [
    "train_dataset = TrainDataset(words, y_data1)\n",
    "train_dataloader = DataLoader(train_dataset, batch_size=BATCH_SIZE, shuffle=True)"
   ]
  },
  {
   "cell_type": "code",
   "execution_count": 7,
   "id": "33211967",
   "metadata": {},
   "outputs": [],
   "source": [
    "model = WordEmbeddingDecoderModel(\n",
    "    ft_model_path='/home/sju/HyoJun/Creative_semester_system/cc.ko.300.bin',\n",
    "    hidden_size=HIDDEN_SIZE,\n",
    "    num_frames=NUM_FRAMES,\n",
    "    num_landmarks=NUM_LANDMARKS,\n",
    "    dim=DIM\n",
    ").cuda()"
   ]
  },
  {
   "cell_type": "code",
   "execution_count": 8,
   "id": "c951907c",
   "metadata": {},
   "outputs": [],
   "source": [
    "class BoneLengthLoss(nn.Module):\n",
    "    def __init__(self, bone_pairs):\n",
    "        super(BoneLengthLoss, self).__init__()\n",
    "        self.bone_pairs = bone_pairs\n",
    "    \n",
    "    def forward(self, pred, target):\n",
    "        assert pred.shape == target.shape\n",
    "        \n",
    "        B, T, N, D = pred.shape\n",
    "        pred_bones = []\n",
    "        target_bones = []\n",
    "        for i, j in self.bone_pairs:\n",
    "            pred_bone = torch.norm(pred[:, :, i, :] - pred[:, :, j, :], dim=-1)\n",
    "            target_bone = torch.norm(target[:, :, i, :] - target[:, :, j, :], dim=-1)\n",
    "            pred_bones.append(pred_bone)\n",
    "            target_bones.append(target_bone)\n",
    "        \n",
    "        pred_bones = torch.stack(pred_bones, dim=-1)\n",
    "        target_bones = torch.stack(target_bones, dim=-1)\n",
    "        \n",
    "        loss = torch.mean((pred_bones - target_bones) ** 2)\n",
    "        return loss"
   ]
  },
  {
   "cell_type": "code",
   "execution_count": 9,
   "id": "9549b888",
   "metadata": {},
   "outputs": [],
   "source": [
    "hand_bone_pairs = [\n",
    "    (0, 1), (1, 2), (2, 3), (3, 4),      # Thumb\n",
    "    (0, 5), (5, 6), (6, 7), (7, 8),      # Index\n",
    "    (0, 9), (9,10), (10,11), (11,12),    # Middle\n",
    "    (0,13), (13,14), (14,15), (15,16),   # Ring\n",
    "    (0,17), (17,18), (18,19), (19,20)    # Pinky\n",
    "]\n",
    "\n",
    "pose_bone_pairs = [\n",
    "    (0, 1),   # nose to neck\n",
    "    (1, 2), (2, 3), (3, 4), (4, 5),   # right arm\n",
    "    (1, 6), (6, 7), (7, 8), (8, 9),   # left arm\n",
    "    (1, 10), (10, 11), (11, 12),     # right leg\n",
    "    (1, 13), (13, 14), (14, 15),     # left leg\n",
    "    (0, 16), (0, 17),  # eyes\n",
    "    (16, 18), (17, 19),  # ears\n",
    "    (11, 22), (14, 19),  # ankles to toes\n",
    "]"
   ]
  },
  {
   "cell_type": "code",
   "execution_count": 10,
   "id": "89f7940e-2002-41f6-8873-8ab9ba62a957",
   "metadata": {},
   "outputs": [],
   "source": [
    "#criterion = nn.L1Loss()\n",
    "criterion = nn.MSELoss()\n",
    "#criterion_hand = BoneLengthLoss(hand_bone_pairs)\n",
    "#criterion_pose = BoneLengthLoss(pose_bone_pairs)\n",
    "\n",
    "optimizer = AdamW(model.parameters(), lr=LR)\n",
    "\n",
    "cos_epoch = int(EPOCHS*0.75)\n",
    "\n",
    "scheduler = torch.optim.lr_scheduler.CosineAnnealingLR(optimizer, (EPOCHS-cos_epoch)*len(train_dataloader))\n",
    "\n",
    "steps_per_epoch = len(train_dataloader)\n",
    "#val_steps = len(valid_dataloader)"
   ]
  },
  {
   "cell_type": "code",
   "execution_count": 11,
   "id": "d16b8302",
   "metadata": {},
   "outputs": [
    {
     "name": "stderr",
     "output_type": "stream",
     "text": [
      "  0%|                                                   | 0/200 [00:00<?, ?it/s]"
     ]
    },
    {
     "name": "stdout",
     "output_type": "stream",
     "text": [
      "Step [1/3000] Loss: 0.573 Time: 0.2\r"
     ]
    },
    {
     "name": "stderr",
     "output_type": "stream",
     "text": [
      "/tmp/ipykernel_40399/2973326957.py:35: UserWarning: Creating a tensor from a list of numpy.ndarrays is extremely slow. Please consider converting the list to a single numpy.ndarray with numpy.array() before converting to a tensor. (Triggered internally at ../torch/csrc/utils/tensor_new.cpp:261.)\n",
      "  embeddings = torch.tensor(batch_embeddings).to(device)\n"
     ]
    },
    {
     "name": "stdout",
     "output_type": "stream",
     "text": [
      "Step [3000/3000] Loss: 0.098 Time: 43.1\r"
     ]
    },
    {
     "name": "stderr",
     "output_type": "stream",
     "text": [
      "  0%|▏                                        | 1/200 [00:43<2:23:04, 43.14s/it]"
     ]
    },
    {
     "name": "stdout",
     "output_type": "stream",
     "text": [
      "\n",
      "Step [3000/3000] Loss: 0.035 Time: 42.4\r"
     ]
    },
    {
     "name": "stderr",
     "output_type": "stream",
     "text": [
      "  1%|▍                                        | 2/200 [01:25<2:20:50, 42.68s/it]"
     ]
    },
    {
     "name": "stdout",
     "output_type": "stream",
     "text": [
      "\n",
      "Step [3000/3000] Loss: 0.028 Time: 42.7\r"
     ]
    },
    {
     "name": "stderr",
     "output_type": "stream",
     "text": [
      "  2%|▌                                        | 3/200 [02:08<2:20:07, 42.68s/it]"
     ]
    },
    {
     "name": "stdout",
     "output_type": "stream",
     "text": [
      "\n",
      "Step [3000/3000] Loss: 0.023 Time: 42.9\r"
     ]
    },
    {
     "name": "stderr",
     "output_type": "stream",
     "text": [
      "  2%|▊                                        | 4/200 [02:51<2:19:41, 42.76s/it]"
     ]
    },
    {
     "name": "stdout",
     "output_type": "stream",
     "text": [
      "\n",
      "Step [3000/3000] Loss: 0.019 Time: 42.8\r"
     ]
    },
    {
     "name": "stderr",
     "output_type": "stream",
     "text": [
      "  2%|█                                        | 5/200 [03:33<2:18:59, 42.76s/it]"
     ]
    },
    {
     "name": "stdout",
     "output_type": "stream",
     "text": [
      "\n",
      "Step [3000/3000] Loss: 0.016 Time: 43.4\r"
     ]
    },
    {
     "name": "stderr",
     "output_type": "stream",
     "text": [
      "  3%|█▏                                       | 6/200 [04:17<2:18:58, 42.98s/it]"
     ]
    },
    {
     "name": "stdout",
     "output_type": "stream",
     "text": [
      "\n",
      "Step [3000/3000] Loss: 0.015 Time: 42.7\r"
     ]
    },
    {
     "name": "stderr",
     "output_type": "stream",
     "text": [
      "  4%|█▍                                       | 7/200 [04:59<2:17:56, 42.88s/it]"
     ]
    },
    {
     "name": "stdout",
     "output_type": "stream",
     "text": [
      "\n",
      "Step [3000/3000] Loss: 0.014 Time: 43.0\r"
     ]
    },
    {
     "name": "stderr",
     "output_type": "stream",
     "text": [
      "  4%|█▋                                       | 8/200 [05:42<2:17:18, 42.91s/it]"
     ]
    },
    {
     "name": "stdout",
     "output_type": "stream",
     "text": [
      "\n",
      "Step [3000/3000] Loss: 0.012 Time: 42.6\r"
     ]
    },
    {
     "name": "stderr",
     "output_type": "stream",
     "text": [
      "  4%|█▊                                       | 9/200 [06:25<2:16:15, 42.81s/it]"
     ]
    },
    {
     "name": "stdout",
     "output_type": "stream",
     "text": [
      "\n",
      "Step [3000/3000] Loss: 0.012 Time: 42.8\n"
     ]
    },
    {
     "name": "stderr",
     "output_type": "stream",
     "text": [
      "  5%|██                                      | 10/200 [07:08<2:15:34, 42.81s/it]"
     ]
    },
    {
     "name": "stdout",
     "output_type": "stream",
     "text": [
      "Step [3000/3000] Loss: 0.011 Time: 42.7\r"
     ]
    },
    {
     "name": "stderr",
     "output_type": "stream",
     "text": [
      "  6%|██▏                                     | 11/200 [07:50<2:14:43, 42.77s/it]"
     ]
    },
    {
     "name": "stdout",
     "output_type": "stream",
     "text": [
      "\n",
      "Step [3000/3000] Loss: 0.010 Time: 42.4\r"
     ]
    },
    {
     "name": "stderr",
     "output_type": "stream",
     "text": [
      "  6%|██▍                                     | 12/200 [08:33<2:13:39, 42.65s/it]"
     ]
    },
    {
     "name": "stdout",
     "output_type": "stream",
     "text": [
      "\n",
      "Step [3000/3000] Loss: 0.009 Time: 42.4\r"
     ]
    },
    {
     "name": "stderr",
     "output_type": "stream",
     "text": [
      "  6%|██▌                                     | 13/200 [09:15<2:12:41, 42.57s/it]"
     ]
    },
    {
     "name": "stdout",
     "output_type": "stream",
     "text": [
      "\n",
      "Step [3000/3000] Loss: 0.009 Time: 43.1\r"
     ]
    },
    {
     "name": "stderr",
     "output_type": "stream",
     "text": [
      "  7%|██▊                                     | 14/200 [09:58<2:12:26, 42.72s/it]"
     ]
    },
    {
     "name": "stdout",
     "output_type": "stream",
     "text": [
      "\n",
      "Step [3000/3000] Loss: 0.008 Time: 42.4\r"
     ]
    },
    {
     "name": "stderr",
     "output_type": "stream",
     "text": [
      "  8%|███                                     | 15/200 [10:41<2:11:26, 42.63s/it]"
     ]
    },
    {
     "name": "stdout",
     "output_type": "stream",
     "text": [
      "\n",
      "Step [3000/3000] Loss: 0.008 Time: 43.4\r"
     ]
    },
    {
     "name": "stderr",
     "output_type": "stream",
     "text": [
      "  8%|███▏                                    | 16/200 [11:24<2:11:25, 42.86s/it]"
     ]
    },
    {
     "name": "stdout",
     "output_type": "stream",
     "text": [
      "\n",
      "Step [3000/3000] Loss: 0.007 Time: 43.3\r"
     ]
    },
    {
     "name": "stderr",
     "output_type": "stream",
     "text": [
      "  8%|███▍                                    | 17/200 [12:07<2:11:05, 42.98s/it]"
     ]
    },
    {
     "name": "stdout",
     "output_type": "stream",
     "text": [
      "\n",
      "Step [3000/3000] Loss: 0.007 Time: 43.3\r"
     ]
    },
    {
     "name": "stderr",
     "output_type": "stream",
     "text": [
      "  9%|███▌                                    | 18/200 [12:51<2:10:37, 43.06s/it]"
     ]
    },
    {
     "name": "stdout",
     "output_type": "stream",
     "text": [
      "\n",
      "Step [3000/3000] Loss: 0.006 Time: 43.0\r"
     ]
    },
    {
     "name": "stderr",
     "output_type": "stream",
     "text": [
      " 10%|███▊                                    | 19/200 [13:34<2:09:49, 43.03s/it]"
     ]
    },
    {
     "name": "stdout",
     "output_type": "stream",
     "text": [
      "\n",
      "Step [3000/3000] Loss: 0.006 Time: 42.4\r"
     ]
    },
    {
     "name": "stderr",
     "output_type": "stream",
     "text": [
      " 10%|████                                    | 20/200 [14:16<2:08:32, 42.84s/it]"
     ]
    },
    {
     "name": "stdout",
     "output_type": "stream",
     "text": [
      "\n",
      "Step [3000/3000] Loss: 0.005 Time: 42.5\r"
     ]
    },
    {
     "name": "stderr",
     "output_type": "stream",
     "text": [
      " 10%|████▏                                   | 21/200 [14:58<2:07:30, 42.74s/it]"
     ]
    },
    {
     "name": "stdout",
     "output_type": "stream",
     "text": [
      "\n",
      "Step [3000/3000] Loss: 0.005 Time: 43.0\r"
     ]
    },
    {
     "name": "stderr",
     "output_type": "stream",
     "text": [
      " 11%|████▍                                   | 22/200 [15:42<2:07:03, 42.83s/it]"
     ]
    },
    {
     "name": "stdout",
     "output_type": "stream",
     "text": [
      "\n",
      "Step [3000/3000] Loss: 0.005 Time: 43.3\r"
     ]
    },
    {
     "name": "stderr",
     "output_type": "stream",
     "text": [
      " 12%|████▌                                   | 23/200 [16:25<2:06:44, 42.96s/it]"
     ]
    },
    {
     "name": "stdout",
     "output_type": "stream",
     "text": [
      "\n",
      "Step [3000/3000] Loss: 0.004 Time: 43.4\r"
     ]
    },
    {
     "name": "stderr",
     "output_type": "stream",
     "text": [
      " 12%|████▊                                   | 24/200 [17:08<2:06:27, 43.11s/it]"
     ]
    },
    {
     "name": "stdout",
     "output_type": "stream",
     "text": [
      "\n",
      "Step [3000/3000] Loss: 0.004 Time: 42.7\r"
     ]
    },
    {
     "name": "stderr",
     "output_type": "stream",
     "text": [
      " 12%|█████                                   | 25/200 [17:51<2:05:20, 42.97s/it]"
     ]
    },
    {
     "name": "stdout",
     "output_type": "stream",
     "text": [
      "\n",
      "Step [3000/3000] Loss: 0.004 Time: 42.8\r"
     ]
    },
    {
     "name": "stderr",
     "output_type": "stream",
     "text": [
      " 13%|█████▏                                  | 26/200 [18:34<2:04:29, 42.93s/it]"
     ]
    },
    {
     "name": "stdout",
     "output_type": "stream",
     "text": [
      "\n",
      "Step [3000/3000] Loss: 0.003 Time: 42.6\r"
     ]
    },
    {
     "name": "stderr",
     "output_type": "stream",
     "text": [
      " 14%|█████▍                                  | 27/200 [19:16<2:03:32, 42.85s/it]"
     ]
    },
    {
     "name": "stdout",
     "output_type": "stream",
     "text": [
      "\n",
      "Step [3000/3000] Loss: 0.003 Time: 42.1\r"
     ]
    },
    {
     "name": "stderr",
     "output_type": "stream",
     "text": [
      " 14%|█████▌                                  | 28/200 [19:59<2:02:13, 42.64s/it]"
     ]
    },
    {
     "name": "stdout",
     "output_type": "stream",
     "text": [
      "\n",
      "Step [3000/3000] Loss: 0.003 Time: 42.8\r"
     ]
    },
    {
     "name": "stderr",
     "output_type": "stream",
     "text": [
      " 14%|█████▊                                  | 29/200 [20:41<2:01:37, 42.68s/it]"
     ]
    },
    {
     "name": "stdout",
     "output_type": "stream",
     "text": [
      "\n",
      "Step [3000/3000] Loss: 0.002 Time: 43.0\r"
     ]
    },
    {
     "name": "stderr",
     "output_type": "stream",
     "text": [
      " 15%|██████                                  | 30/200 [21:24<2:01:11, 42.77s/it]"
     ]
    },
    {
     "name": "stdout",
     "output_type": "stream",
     "text": [
      "\n",
      "Step [3000/3000] Loss: 0.002 Time: 43.0\r"
     ]
    },
    {
     "name": "stderr",
     "output_type": "stream",
     "text": [
      " 16%|██████▏                                 | 31/200 [22:07<2:00:38, 42.83s/it]"
     ]
    },
    {
     "name": "stdout",
     "output_type": "stream",
     "text": [
      "\n",
      "Step [3000/3000] Loss: 0.002 Time: 43.4\r"
     ]
    },
    {
     "name": "stderr",
     "output_type": "stream",
     "text": [
      " 16%|██████▍                                 | 32/200 [22:51<2:00:23, 43.00s/it]"
     ]
    },
    {
     "name": "stdout",
     "output_type": "stream",
     "text": [
      "\n",
      "Step [3000/3000] Loss: 0.002 Time: 42.9\r"
     ]
    },
    {
     "name": "stderr",
     "output_type": "stream",
     "text": [
      " 16%|██████▌                                 | 33/200 [23:34<1:59:34, 42.96s/it]"
     ]
    },
    {
     "name": "stdout",
     "output_type": "stream",
     "text": [
      "\n",
      "Step [3000/3000] Loss: 0.002 Time: 43.4\r"
     ]
    },
    {
     "name": "stderr",
     "output_type": "stream",
     "text": [
      " 17%|██████▊                                 | 34/200 [24:17<1:59:13, 43.09s/it]"
     ]
    },
    {
     "name": "stdout",
     "output_type": "stream",
     "text": [
      "\n",
      "Step [3000/3000] Loss: 0.002 Time: 42.8\r"
     ]
    },
    {
     "name": "stderr",
     "output_type": "stream",
     "text": [
      " 18%|███████                                 | 35/200 [25:00<1:58:13, 42.99s/it]"
     ]
    },
    {
     "name": "stdout",
     "output_type": "stream",
     "text": [
      "\n",
      "Step [3000/3000] Loss: 0.001 Time: 43.1\r"
     ]
    },
    {
     "name": "stderr",
     "output_type": "stream",
     "text": [
      " 18%|███████▏                                | 36/200 [25:43<1:57:36, 43.03s/it]"
     ]
    },
    {
     "name": "stdout",
     "output_type": "stream",
     "text": [
      "\n",
      "Step [3000/3000] Loss: 0.001 Time: 42.8\r"
     ]
    },
    {
     "name": "stderr",
     "output_type": "stream",
     "text": [
      " 18%|███████▍                                | 37/200 [26:26<1:56:43, 42.96s/it]"
     ]
    },
    {
     "name": "stdout",
     "output_type": "stream",
     "text": [
      "\n",
      "Step [3000/3000] Loss: 0.001 Time: 43.2\r"
     ]
    },
    {
     "name": "stderr",
     "output_type": "stream",
     "text": [
      " 19%|███████▌                                | 38/200 [27:09<1:56:13, 43.05s/it]"
     ]
    },
    {
     "name": "stdout",
     "output_type": "stream",
     "text": [
      "\n",
      "Step [3000/3000] Loss: 0.001 Time: 42.9\r"
     ]
    },
    {
     "name": "stderr",
     "output_type": "stream",
     "text": [
      " 20%|███████▊                                | 39/200 [27:52<1:55:21, 42.99s/it]"
     ]
    },
    {
     "name": "stdout",
     "output_type": "stream",
     "text": [
      "\n",
      "Step [3000/3000] Loss: 0.001 Time: 42.8\r"
     ]
    },
    {
     "name": "stderr",
     "output_type": "stream",
     "text": [
      " 20%|████████                                | 40/200 [28:34<1:54:28, 42.93s/it]"
     ]
    },
    {
     "name": "stdout",
     "output_type": "stream",
     "text": [
      "\n",
      "Step [3000/3000] Loss: 0.001 Time: 43.0\r"
     ]
    },
    {
     "name": "stderr",
     "output_type": "stream",
     "text": [
      " 20%|████████▏                               | 41/200 [29:17<1:53:47, 42.94s/it]"
     ]
    },
    {
     "name": "stdout",
     "output_type": "stream",
     "text": [
      "\n",
      "Step [3000/3000] Loss: 0.001 Time: 42.8\r"
     ]
    },
    {
     "name": "stderr",
     "output_type": "stream",
     "text": [
      " 21%|████████▍                               | 42/200 [30:00<1:52:58, 42.90s/it]"
     ]
    },
    {
     "name": "stdout",
     "output_type": "stream",
     "text": [
      "\n",
      "Step [3000/3000] Loss: 0.001 Time: 43.1\r"
     ]
    },
    {
     "name": "stderr",
     "output_type": "stream",
     "text": [
      " 22%|████████▌                               | 43/200 [30:43<1:52:24, 42.96s/it]"
     ]
    },
    {
     "name": "stdout",
     "output_type": "stream",
     "text": [
      "\n",
      "Step [3000/3000] Loss: 0.001 Time: 42.4\r"
     ]
    },
    {
     "name": "stderr",
     "output_type": "stream",
     "text": [
      " 22%|████████▊                               | 44/200 [31:26<1:51:14, 42.78s/it]"
     ]
    },
    {
     "name": "stdout",
     "output_type": "stream",
     "text": [
      "\n",
      "Step [3000/3000] Loss: 0.001 Time: 43.0\r"
     ]
    },
    {
     "name": "stderr",
     "output_type": "stream",
     "text": [
      " 22%|█████████                               | 45/200 [32:09<1:50:43, 42.86s/it]"
     ]
    },
    {
     "name": "stdout",
     "output_type": "stream",
     "text": [
      "\n",
      "Step [3000/3000] Loss: 0.001 Time: 42.8\r"
     ]
    },
    {
     "name": "stderr",
     "output_type": "stream",
     "text": [
      " 23%|█████████▏                              | 46/200 [32:52<1:49:59, 42.86s/it]"
     ]
    },
    {
     "name": "stdout",
     "output_type": "stream",
     "text": [
      "\n",
      "Step [3000/3000] Loss: 0.001 Time: 42.4\r"
     ]
    },
    {
     "name": "stderr",
     "output_type": "stream",
     "text": [
      " 24%|█████████▍                              | 47/200 [33:34<1:48:55, 42.72s/it]"
     ]
    },
    {
     "name": "stdout",
     "output_type": "stream",
     "text": [
      "\n",
      "Step [3000/3000] Loss: 0.001 Time: 42.5\r"
     ]
    },
    {
     "name": "stderr",
     "output_type": "stream",
     "text": [
      " 24%|█████████▌                              | 48/200 [34:17<1:48:04, 42.66s/it]"
     ]
    },
    {
     "name": "stdout",
     "output_type": "stream",
     "text": [
      "\n",
      "Step [3000/3000] Loss: 0.001 Time: 42.9\r"
     ]
    },
    {
     "name": "stderr",
     "output_type": "stream",
     "text": [
      " 24%|█████████▊                              | 49/200 [34:59<1:47:30, 42.72s/it]"
     ]
    },
    {
     "name": "stdout",
     "output_type": "stream",
     "text": [
      "\n",
      "Step [3000/3000] Loss: 0.001 Time: 42.8\r"
     ]
    },
    {
     "name": "stderr",
     "output_type": "stream",
     "text": [
      " 25%|██████████                              | 50/200 [35:42<1:46:53, 42.76s/it]"
     ]
    },
    {
     "name": "stdout",
     "output_type": "stream",
     "text": [
      "\n",
      "Step [3000/3000] Loss: 0.001 Time: 43.4\r"
     ]
    },
    {
     "name": "stderr",
     "output_type": "stream",
     "text": [
      " 26%|██████████▏                             | 51/200 [36:26<1:46:38, 42.94s/it]"
     ]
    },
    {
     "name": "stdout",
     "output_type": "stream",
     "text": [
      "\n",
      "Step [3000/3000] Loss: 0.001 Time: 43.7\r"
     ]
    },
    {
     "name": "stderr",
     "output_type": "stream",
     "text": [
      " 26%|██████████▍                             | 52/200 [37:09<1:46:28, 43.16s/it]"
     ]
    },
    {
     "name": "stdout",
     "output_type": "stream",
     "text": [
      "\n",
      "Step [3000/3000] Loss: 0.001 Time: 43.0\r"
     ]
    },
    {
     "name": "stderr",
     "output_type": "stream",
     "text": [
      " 26%|██████████▌                             | 53/200 [37:52<1:45:35, 43.10s/it]"
     ]
    },
    {
     "name": "stdout",
     "output_type": "stream",
     "text": [
      "\n",
      "Step [3000/3000] Loss: 0.000 Time: 43.3\r"
     ]
    },
    {
     "name": "stderr",
     "output_type": "stream",
     "text": [
      " 27%|██████████▊                             | 54/200 [38:36<1:45:03, 43.17s/it]"
     ]
    },
    {
     "name": "stdout",
     "output_type": "stream",
     "text": [
      "\n",
      "Step [3000/3000] Loss: 0.000 Time: 42.6\r"
     ]
    },
    {
     "name": "stderr",
     "output_type": "stream",
     "text": [
      " 28%|███████████                             | 55/200 [39:18<1:43:57, 43.01s/it]"
     ]
    },
    {
     "name": "stdout",
     "output_type": "stream",
     "text": [
      "\n",
      "Step [3000/3000] Loss: 0.000 Time: 42.8\r"
     ]
    },
    {
     "name": "stderr",
     "output_type": "stream",
     "text": [
      " 28%|███████████▏                            | 56/200 [40:01<1:43:06, 42.96s/it]"
     ]
    },
    {
     "name": "stdout",
     "output_type": "stream",
     "text": [
      "\n",
      "Step [3000/3000] Loss: 0.000 Time: 42.9\r"
     ]
    },
    {
     "name": "stderr",
     "output_type": "stream",
     "text": [
      " 28%|███████████▍                            | 57/200 [40:44<1:42:21, 42.94s/it]"
     ]
    },
    {
     "name": "stdout",
     "output_type": "stream",
     "text": [
      "\n",
      "Step [3000/3000] Loss: 0.000 Time: 42.9\r"
     ]
    },
    {
     "name": "stderr",
     "output_type": "stream",
     "text": [
      " 29%|███████████▌                            | 58/200 [41:27<1:41:37, 42.94s/it]"
     ]
    },
    {
     "name": "stdout",
     "output_type": "stream",
     "text": [
      "\n",
      "Step [3000/3000] Loss: 0.000 Time: 42.8\r"
     ]
    },
    {
     "name": "stderr",
     "output_type": "stream",
     "text": [
      " 30%|███████████▊                            | 59/200 [42:10<1:40:49, 42.91s/it]"
     ]
    },
    {
     "name": "stdout",
     "output_type": "stream",
     "text": [
      "\n",
      "Step [3000/3000] Loss: 0.000 Time: 42.9\r"
     ]
    },
    {
     "name": "stderr",
     "output_type": "stream",
     "text": [
      " 30%|████████████                            | 60/200 [42:53<1:40:07, 42.91s/it]"
     ]
    },
    {
     "name": "stdout",
     "output_type": "stream",
     "text": [
      "\n",
      "Step [3000/3000] Loss: 0.000 Time: 43.2\r"
     ]
    },
    {
     "name": "stderr",
     "output_type": "stream",
     "text": [
      " 30%|████████████▏                           | 61/200 [43:36<1:39:38, 43.01s/it]"
     ]
    },
    {
     "name": "stdout",
     "output_type": "stream",
     "text": [
      "\n",
      "Step [3000/3000] Loss: 0.000 Time: 43.0\r"
     ]
    },
    {
     "name": "stderr",
     "output_type": "stream",
     "text": [
      " 31%|████████████▍                           | 62/200 [44:19<1:38:53, 43.00s/it]"
     ]
    },
    {
     "name": "stdout",
     "output_type": "stream",
     "text": [
      "\n",
      "Step [3000/3000] Loss: 0.000 Time: 43.4\r"
     ]
    },
    {
     "name": "stderr",
     "output_type": "stream",
     "text": [
      " 32%|████████████▌                           | 63/200 [45:02<1:38:25, 43.11s/it]"
     ]
    },
    {
     "name": "stdout",
     "output_type": "stream",
     "text": [
      "\n",
      "Step [3000/3000] Loss: 0.000 Time: 43.0\r"
     ]
    },
    {
     "name": "stderr",
     "output_type": "stream",
     "text": [
      " 32%|████████████▊                           | 64/200 [45:45<1:37:39, 43.08s/it]"
     ]
    },
    {
     "name": "stdout",
     "output_type": "stream",
     "text": [
      "\n",
      "Step [3000/3000] Loss: 0.000 Time: 42.9\r"
     ]
    },
    {
     "name": "stderr",
     "output_type": "stream",
     "text": [
      " 32%|█████████████                           | 65/200 [46:28<1:36:48, 43.02s/it]"
     ]
    },
    {
     "name": "stdout",
     "output_type": "stream",
     "text": [
      "\n",
      "Step [3000/3000] Loss: 0.000 Time: 42.7\r"
     ]
    },
    {
     "name": "stderr",
     "output_type": "stream",
     "text": [
      " 33%|█████████████▏                          | 66/200 [47:11<1:35:53, 42.94s/it]"
     ]
    },
    {
     "name": "stdout",
     "output_type": "stream",
     "text": [
      "\n",
      "Step [3000/3000] Loss: 0.000 Time: 42.8\r"
     ]
    },
    {
     "name": "stderr",
     "output_type": "stream",
     "text": [
      " 34%|█████████████▍                          | 67/200 [47:54<1:35:06, 42.91s/it]"
     ]
    },
    {
     "name": "stdout",
     "output_type": "stream",
     "text": [
      "\n",
      "Step [3000/3000] Loss: 0.000 Time: 43.1\r"
     ]
    },
    {
     "name": "stderr",
     "output_type": "stream",
     "text": [
      " 34%|█████████████▌                          | 68/200 [48:37<1:34:31, 42.97s/it]"
     ]
    },
    {
     "name": "stdout",
     "output_type": "stream",
     "text": [
      "\n",
      "Step [3000/3000] Loss: 0.000 Time: 42.6\r"
     ]
    },
    {
     "name": "stderr",
     "output_type": "stream",
     "text": [
      " 34%|█████████████▊                          | 69/200 [49:19<1:33:34, 42.86s/it]"
     ]
    },
    {
     "name": "stdout",
     "output_type": "stream",
     "text": [
      "\n",
      "Step [3000/3000] Loss: 0.000 Time: 42.4\r"
     ]
    },
    {
     "name": "stderr",
     "output_type": "stream",
     "text": [
      " 35%|██████████████                          | 70/200 [50:02<1:32:33, 42.72s/it]"
     ]
    },
    {
     "name": "stdout",
     "output_type": "stream",
     "text": [
      "\n",
      "Step [3000/3000] Loss: 0.000 Time: 42.4\r"
     ]
    },
    {
     "name": "stderr",
     "output_type": "stream",
     "text": [
      " 36%|██████████████▏                         | 71/200 [50:44<1:31:40, 42.64s/it]"
     ]
    },
    {
     "name": "stdout",
     "output_type": "stream",
     "text": [
      "\n",
      "Step [3000/3000] Loss: 0.000 Time: 43.5\r"
     ]
    },
    {
     "name": "stderr",
     "output_type": "stream",
     "text": [
      " 36%|██████████████▍                         | 72/200 [51:28<1:31:29, 42.88s/it]"
     ]
    },
    {
     "name": "stdout",
     "output_type": "stream",
     "text": [
      "\n",
      "Step [3000/3000] Loss: 0.000 Time: 43.0\r"
     ]
    },
    {
     "name": "stderr",
     "output_type": "stream",
     "text": [
      " 36%|██████████████▌                         | 73/200 [52:11<1:30:49, 42.91s/it]"
     ]
    },
    {
     "name": "stdout",
     "output_type": "stream",
     "text": [
      "\n",
      "Step [3000/3000] Loss: 0.000 Time: 42.5\r"
     ]
    },
    {
     "name": "stderr",
     "output_type": "stream",
     "text": [
      " 37%|██████████████▊                         | 74/200 [52:53<1:29:51, 42.79s/it]"
     ]
    },
    {
     "name": "stdout",
     "output_type": "stream",
     "text": [
      "\n",
      "Step [3000/3000] Loss: 0.000 Time: 43.4\r"
     ]
    },
    {
     "name": "stderr",
     "output_type": "stream",
     "text": [
      " 38%|███████████████                         | 75/200 [53:37<1:29:29, 42.96s/it]"
     ]
    },
    {
     "name": "stdout",
     "output_type": "stream",
     "text": [
      "\n",
      "Step [3000/3000] Loss: 0.000 Time: 42.8\r"
     ]
    },
    {
     "name": "stderr",
     "output_type": "stream",
     "text": [
      " 38%|███████████████▏                        | 76/200 [54:19<1:28:40, 42.91s/it]"
     ]
    },
    {
     "name": "stdout",
     "output_type": "stream",
     "text": [
      "\n",
      "Step [3000/3000] Loss: 0.000 Time: 43.0\r"
     ]
    },
    {
     "name": "stderr",
     "output_type": "stream",
     "text": [
      " 38%|███████████████▍                        | 77/200 [55:02<1:28:01, 42.94s/it]"
     ]
    },
    {
     "name": "stdout",
     "output_type": "stream",
     "text": [
      "\n",
      "Step [3000/3000] Loss: 0.000 Time: 43.5\r"
     ]
    },
    {
     "name": "stderr",
     "output_type": "stream",
     "text": [
      " 39%|███████████████▌                        | 78/200 [55:46<1:27:40, 43.12s/it]"
     ]
    },
    {
     "name": "stdout",
     "output_type": "stream",
     "text": [
      "\n",
      "Step [3000/3000] Loss: 0.000 Time: 43.1\r"
     ]
    },
    {
     "name": "stderr",
     "output_type": "stream",
     "text": [
      " 40%|███████████████▊                        | 79/200 [56:29<1:26:55, 43.10s/it]"
     ]
    },
    {
     "name": "stdout",
     "output_type": "stream",
     "text": [
      "\n",
      "Step [3000/3000] Loss: 0.000 Time: 42.6\r"
     ]
    },
    {
     "name": "stderr",
     "output_type": "stream",
     "text": [
      " 40%|████████████████                        | 80/200 [57:12<1:25:54, 42.95s/it]"
     ]
    },
    {
     "name": "stdout",
     "output_type": "stream",
     "text": [
      "\n",
      "Step [3000/3000] Loss: 0.000 Time: 43.0\r"
     ]
    },
    {
     "name": "stderr",
     "output_type": "stream",
     "text": [
      " 40%|████████████████▏                       | 81/200 [57:55<1:25:11, 42.95s/it]"
     ]
    },
    {
     "name": "stdout",
     "output_type": "stream",
     "text": [
      "\n",
      "Step [3000/3000] Loss: 0.000 Time: 43.1\r"
     ]
    },
    {
     "name": "stderr",
     "output_type": "stream",
     "text": [
      " 41%|████████████████▍                       | 82/200 [58:38<1:24:32, 42.99s/it]"
     ]
    },
    {
     "name": "stdout",
     "output_type": "stream",
     "text": [
      "\n",
      "Step [3000/3000] Loss: 0.000 Time: 42.6\r"
     ]
    },
    {
     "name": "stderr",
     "output_type": "stream",
     "text": [
      " 42%|████████████████▌                       | 83/200 [59:20<1:23:35, 42.87s/it]"
     ]
    },
    {
     "name": "stdout",
     "output_type": "stream",
     "text": [
      "\n",
      "Step [3000/3000] Loss: 0.000 Time: 42.5\r"
     ]
    },
    {
     "name": "stderr",
     "output_type": "stream",
     "text": [
      " 42%|███████████████▉                      | 84/200 [1:00:03<1:22:39, 42.75s/it]"
     ]
    },
    {
     "name": "stdout",
     "output_type": "stream",
     "text": [
      "\n",
      "Step [3000/3000] Loss: 0.000 Time: 42.8\r"
     ]
    },
    {
     "name": "stderr",
     "output_type": "stream",
     "text": [
      " 42%|████████████████▏                     | 85/200 [1:00:45<1:21:58, 42.77s/it]"
     ]
    },
    {
     "name": "stdout",
     "output_type": "stream",
     "text": [
      "\n",
      "Step [3000/3000] Loss: 0.000 Time: 42.9\r"
     ]
    },
    {
     "name": "stderr",
     "output_type": "stream",
     "text": [
      " 43%|████████████████▎                     | 86/200 [1:01:28<1:21:19, 42.80s/it]"
     ]
    },
    {
     "name": "stdout",
     "output_type": "stream",
     "text": [
      "\n",
      "Step [3000/3000] Loss: 0.000 Time: 42.9\r"
     ]
    },
    {
     "name": "stderr",
     "output_type": "stream",
     "text": [
      " 44%|████████████████▌                     | 87/200 [1:02:11<1:20:40, 42.84s/it]"
     ]
    },
    {
     "name": "stdout",
     "output_type": "stream",
     "text": [
      "\n",
      "Step [3000/3000] Loss: 0.000 Time: 43.2\r"
     ]
    },
    {
     "name": "stderr",
     "output_type": "stream",
     "text": [
      " 44%|████████████████▋                     | 88/200 [1:02:54<1:20:10, 42.95s/it]"
     ]
    },
    {
     "name": "stdout",
     "output_type": "stream",
     "text": [
      "\n",
      "Step [3000/3000] Loss: 0.000 Time: 42.9\r"
     ]
    },
    {
     "name": "stderr",
     "output_type": "stream",
     "text": [
      " 44%|████████████████▉                     | 89/200 [1:03:37<1:19:25, 42.93s/it]"
     ]
    },
    {
     "name": "stdout",
     "output_type": "stream",
     "text": [
      "\n",
      "Step [3000/3000] Loss: 0.000 Time: 41.9\r"
     ]
    },
    {
     "name": "stderr",
     "output_type": "stream",
     "text": [
      " 45%|█████████████████                     | 90/200 [1:04:19<1:18:07, 42.62s/it]"
     ]
    },
    {
     "name": "stdout",
     "output_type": "stream",
     "text": [
      "\n",
      "Step [3000/3000] Loss: 0.000 Time: 42.7\r"
     ]
    },
    {
     "name": "stderr",
     "output_type": "stream",
     "text": [
      " 46%|█████████████████▎                    | 91/200 [1:05:02<1:17:29, 42.66s/it]"
     ]
    },
    {
     "name": "stdout",
     "output_type": "stream",
     "text": [
      "\n",
      "Step [3000/3000] Loss: 0.000 Time: 42.4\r"
     ]
    },
    {
     "name": "stderr",
     "output_type": "stream",
     "text": [
      " 46%|█████████████████▍                    | 92/200 [1:05:44<1:16:39, 42.59s/it]"
     ]
    },
    {
     "name": "stdout",
     "output_type": "stream",
     "text": [
      "\n",
      "Step [3000/3000] Loss: 0.000 Time: 43.0\r"
     ]
    },
    {
     "name": "stderr",
     "output_type": "stream",
     "text": [
      " 46%|█████████████████▋                    | 93/200 [1:06:27<1:16:10, 42.71s/it]"
     ]
    },
    {
     "name": "stdout",
     "output_type": "stream",
     "text": [
      "\n",
      "Step [3000/3000] Loss: 0.000 Time: 42.8\r"
     ]
    },
    {
     "name": "stderr",
     "output_type": "stream",
     "text": [
      " 47%|█████████████████▊                    | 94/200 [1:07:10<1:15:31, 42.75s/it]"
     ]
    },
    {
     "name": "stdout",
     "output_type": "stream",
     "text": [
      "\n",
      "Step [3000/3000] Loss: 0.000 Time: 43.2\r"
     ]
    },
    {
     "name": "stderr",
     "output_type": "stream",
     "text": [
      " 48%|██████████████████                    | 95/200 [1:07:53<1:15:01, 42.88s/it]"
     ]
    },
    {
     "name": "stdout",
     "output_type": "stream",
     "text": [
      "\n",
      "Step [3000/3000] Loss: 0.000 Time: 42.6\r"
     ]
    },
    {
     "name": "stderr",
     "output_type": "stream",
     "text": [
      " 48%|██████████████████▏                   | 96/200 [1:08:36<1:14:11, 42.81s/it]"
     ]
    },
    {
     "name": "stdout",
     "output_type": "stream",
     "text": [
      "\n",
      "Step [3000/3000] Loss: 0.000 Time: 43.3\r"
     ]
    },
    {
     "name": "stderr",
     "output_type": "stream",
     "text": [
      " 48%|██████████████████▍                   | 97/200 [1:09:19<1:13:45, 42.96s/it]"
     ]
    },
    {
     "name": "stdout",
     "output_type": "stream",
     "text": [
      "\n",
      "Step [3000/3000] Loss: 0.000 Time: 43.2\r"
     ]
    },
    {
     "name": "stderr",
     "output_type": "stream",
     "text": [
      " 49%|██████████████████▌                   | 98/200 [1:10:03<1:13:09, 43.04s/it]"
     ]
    },
    {
     "name": "stdout",
     "output_type": "stream",
     "text": [
      "\n",
      "Step [3000/3000] Loss: 0.000 Time: 43.1\r"
     ]
    },
    {
     "name": "stderr",
     "output_type": "stream",
     "text": [
      " 50%|██████████████████▊                   | 99/200 [1:10:46<1:12:30, 43.07s/it]"
     ]
    },
    {
     "name": "stdout",
     "output_type": "stream",
     "text": [
      "\n",
      "Step [3000/3000] Loss: 0.000 Time: 43.2\r"
     ]
    },
    {
     "name": "stderr",
     "output_type": "stream",
     "text": [
      " 50%|██████████████████▌                  | 100/200 [1:11:29<1:11:51, 43.11s/it]"
     ]
    },
    {
     "name": "stdout",
     "output_type": "stream",
     "text": [
      "\n",
      "Step [3000/3000] Loss: 0.000 Time: 43.2\r"
     ]
    },
    {
     "name": "stderr",
     "output_type": "stream",
     "text": [
      " 50%|██████████████████▋                  | 101/200 [1:12:12<1:11:11, 43.14s/it]"
     ]
    },
    {
     "name": "stdout",
     "output_type": "stream",
     "text": [
      "\n",
      "Step [3000/3000] Loss: 0.000 Time: 43.4\r"
     ]
    },
    {
     "name": "stderr",
     "output_type": "stream",
     "text": [
      " 51%|██████████████████▊                  | 102/200 [1:12:56<1:10:35, 43.22s/it]"
     ]
    },
    {
     "name": "stdout",
     "output_type": "stream",
     "text": [
      "\n",
      "Step [3000/3000] Loss: 0.000 Time: 43.4\r"
     ]
    },
    {
     "name": "stderr",
     "output_type": "stream",
     "text": [
      " 52%|███████████████████                  | 103/200 [1:13:39<1:09:57, 43.27s/it]"
     ]
    },
    {
     "name": "stdout",
     "output_type": "stream",
     "text": [
      "\n",
      "Step [3000/3000] Loss: 0.000 Time: 42.6\r"
     ]
    },
    {
     "name": "stderr",
     "output_type": "stream",
     "text": [
      " 52%|███████████████████▏                 | 104/200 [1:14:22<1:08:53, 43.06s/it]"
     ]
    },
    {
     "name": "stdout",
     "output_type": "stream",
     "text": [
      "\n",
      "Step [3000/3000] Loss: 0.000 Time: 43.2\r"
     ]
    },
    {
     "name": "stderr",
     "output_type": "stream",
     "text": [
      " 52%|███████████████████▍                 | 105/200 [1:15:05<1:08:15, 43.11s/it]"
     ]
    },
    {
     "name": "stdout",
     "output_type": "stream",
     "text": [
      "\n",
      "Step [3000/3000] Loss: 0.000 Time: 42.8\r"
     ]
    },
    {
     "name": "stderr",
     "output_type": "stream",
     "text": [
      " 53%|███████████████████▌                 | 106/200 [1:15:48<1:07:22, 43.00s/it]"
     ]
    },
    {
     "name": "stdout",
     "output_type": "stream",
     "text": [
      "\n",
      "Step [3000/3000] Loss: 0.000 Time: 42.7\r"
     ]
    },
    {
     "name": "stderr",
     "output_type": "stream",
     "text": [
      " 54%|███████████████████▊                 | 107/200 [1:16:30<1:06:29, 42.90s/it]"
     ]
    },
    {
     "name": "stdout",
     "output_type": "stream",
     "text": [
      "\n",
      "Step [3000/3000] Loss: 0.000 Time: 43.4\r"
     ]
    },
    {
     "name": "stderr",
     "output_type": "stream",
     "text": [
      " 54%|███████████████████▉                 | 108/200 [1:17:14<1:05:59, 43.04s/it]"
     ]
    },
    {
     "name": "stdout",
     "output_type": "stream",
     "text": [
      "\n",
      "Step [3000/3000] Loss: 0.000 Time: 42.5\r"
     ]
    },
    {
     "name": "stderr",
     "output_type": "stream",
     "text": [
      " 55%|████████████████████▏                | 109/200 [1:17:56<1:05:01, 42.88s/it]"
     ]
    },
    {
     "name": "stdout",
     "output_type": "stream",
     "text": [
      "\n",
      "Step [3000/3000] Loss: 0.000 Time: 43.0\r"
     ]
    },
    {
     "name": "stderr",
     "output_type": "stream",
     "text": [
      " 55%|████████████████████▎                | 110/200 [1:18:39<1:04:22, 42.92s/it]"
     ]
    },
    {
     "name": "stdout",
     "output_type": "stream",
     "text": [
      "\n",
      "Step [3000/3000] Loss: 0.000 Time: 43.0\r"
     ]
    },
    {
     "name": "stderr",
     "output_type": "stream",
     "text": [
      " 56%|████████████████████▌                | 111/200 [1:19:22<1:03:41, 42.94s/it]"
     ]
    },
    {
     "name": "stdout",
     "output_type": "stream",
     "text": [
      "\n",
      "Step [3000/3000] Loss: 0.000 Time: 42.9\r"
     ]
    },
    {
     "name": "stderr",
     "output_type": "stream",
     "text": [
      " 56%|████████████████████▋                | 112/200 [1:20:05<1:02:57, 42.92s/it]"
     ]
    },
    {
     "name": "stdout",
     "output_type": "stream",
     "text": [
      "\n",
      "Step [3000/3000] Loss: 0.000 Time: 42.8\r"
     ]
    },
    {
     "name": "stderr",
     "output_type": "stream",
     "text": [
      " 56%|████████████████████▉                | 113/200 [1:20:48<1:02:10, 42.88s/it]"
     ]
    },
    {
     "name": "stdout",
     "output_type": "stream",
     "text": [
      "\n",
      "Step [3000/3000] Loss: 0.000 Time: 42.2\r"
     ]
    },
    {
     "name": "stderr",
     "output_type": "stream",
     "text": [
      " 57%|█████████████████████                | 114/200 [1:21:30<1:01:09, 42.66s/it]"
     ]
    },
    {
     "name": "stdout",
     "output_type": "stream",
     "text": [
      "\n",
      "Step [3000/3000] Loss: 0.000 Time: 43.3\r"
     ]
    },
    {
     "name": "stderr",
     "output_type": "stream",
     "text": [
      " 57%|█████████████████████▎               | 115/200 [1:22:13<1:00:42, 42.85s/it]"
     ]
    },
    {
     "name": "stdout",
     "output_type": "stream",
     "text": [
      "\n",
      "Step [3000/3000] Loss: 0.000 Time: 42.9\r"
     ]
    },
    {
     "name": "stderr",
     "output_type": "stream",
     "text": [
      " 58%|█████████████████████▍               | 116/200 [1:22:56<1:00:01, 42.87s/it]"
     ]
    },
    {
     "name": "stdout",
     "output_type": "stream",
     "text": [
      "\n",
      "Step [3000/3000] Loss: 0.000 Time: 42.7\r"
     ]
    },
    {
     "name": "stderr",
     "output_type": "stream",
     "text": [
      " 58%|██████████████████████▊                | 117/200 [1:23:39<59:14, 42.82s/it]"
     ]
    },
    {
     "name": "stdout",
     "output_type": "stream",
     "text": [
      "\n",
      "Step [3000/3000] Loss: 0.000 Time: 43.1\r"
     ]
    },
    {
     "name": "stderr",
     "output_type": "stream",
     "text": [
      " 59%|███████████████████████                | 118/200 [1:24:22<58:37, 42.90s/it]"
     ]
    },
    {
     "name": "stdout",
     "output_type": "stream",
     "text": [
      "\n",
      "Step [3000/3000] Loss: 0.000 Time: 43.0\r"
     ]
    },
    {
     "name": "stderr",
     "output_type": "stream",
     "text": [
      " 60%|███████████████████████▏               | 119/200 [1:25:05<57:58, 42.94s/it]"
     ]
    },
    {
     "name": "stdout",
     "output_type": "stream",
     "text": [
      "\n",
      "Step [3000/3000] Loss: 0.000 Time: 42.8\r"
     ]
    },
    {
     "name": "stderr",
     "output_type": "stream",
     "text": [
      " 60%|███████████████████████▍               | 120/200 [1:25:48<57:10, 42.88s/it]"
     ]
    },
    {
     "name": "stdout",
     "output_type": "stream",
     "text": [
      "\n",
      "Step [3000/3000] Loss: 0.000 Time: 43.6\r"
     ]
    },
    {
     "name": "stderr",
     "output_type": "stream",
     "text": [
      " 60%|███████████████████████▌               | 121/200 [1:26:31<56:45, 43.10s/it]"
     ]
    },
    {
     "name": "stdout",
     "output_type": "stream",
     "text": [
      "\n",
      "Step [3000/3000] Loss: 0.000 Time: 43.1\r"
     ]
    },
    {
     "name": "stderr",
     "output_type": "stream",
     "text": [
      " 61%|███████████████████████▊               | 122/200 [1:27:14<56:01, 43.09s/it]"
     ]
    },
    {
     "name": "stdout",
     "output_type": "stream",
     "text": [
      "\n",
      "Step [3000/3000] Loss: 0.000 Time: 42.6\r"
     ]
    },
    {
     "name": "stderr",
     "output_type": "stream",
     "text": [
      " 62%|███████████████████████▉               | 123/200 [1:27:57<55:06, 42.94s/it]"
     ]
    },
    {
     "name": "stdout",
     "output_type": "stream",
     "text": [
      "\n",
      "Step [3000/3000] Loss: 0.000 Time: 43.3\r"
     ]
    },
    {
     "name": "stderr",
     "output_type": "stream",
     "text": [
      " 62%|████████████████████████▏              | 124/200 [1:28:40<54:30, 43.04s/it]"
     ]
    },
    {
     "name": "stdout",
     "output_type": "stream",
     "text": [
      "\n",
      "Step [3000/3000] Loss: 0.000 Time: 43.4\r"
     ]
    },
    {
     "name": "stderr",
     "output_type": "stream",
     "text": [
      " 62%|████████████████████████▍              | 125/200 [1:29:24<53:55, 43.14s/it]"
     ]
    },
    {
     "name": "stdout",
     "output_type": "stream",
     "text": [
      "\n",
      "Step [3000/3000] Loss: 0.000 Time: 43.0\r"
     ]
    },
    {
     "name": "stderr",
     "output_type": "stream",
     "text": [
      " 63%|████████████████████████▌              | 126/200 [1:30:07<53:09, 43.10s/it]"
     ]
    },
    {
     "name": "stdout",
     "output_type": "stream",
     "text": [
      "\n",
      "Step [3000/3000] Loss: 0.000 Time: 42.4\r"
     ]
    },
    {
     "name": "stderr",
     "output_type": "stream",
     "text": [
      " 64%|████████████████████████▊              | 127/200 [1:30:49<52:12, 42.91s/it]"
     ]
    },
    {
     "name": "stdout",
     "output_type": "stream",
     "text": [
      "\n",
      "Step [3000/3000] Loss: 0.000 Time: 43.4\r"
     ]
    },
    {
     "name": "stderr",
     "output_type": "stream",
     "text": [
      " 64%|████████████████████████▉              | 128/200 [1:31:32<51:39, 43.05s/it]"
     ]
    },
    {
     "name": "stdout",
     "output_type": "stream",
     "text": [
      "\n",
      "Step [3000/3000] Loss: 0.000 Time: 43.1\r"
     ]
    },
    {
     "name": "stderr",
     "output_type": "stream",
     "text": [
      " 64%|█████████████████████████▏             | 129/200 [1:32:16<50:58, 43.07s/it]"
     ]
    },
    {
     "name": "stdout",
     "output_type": "stream",
     "text": [
      "\n",
      "Step [3000/3000] Loss: 0.000 Time: 42.8\r"
     ]
    },
    {
     "name": "stderr",
     "output_type": "stream",
     "text": [
      " 65%|█████████████████████████▎             | 130/200 [1:32:58<50:10, 43.00s/it]"
     ]
    },
    {
     "name": "stdout",
     "output_type": "stream",
     "text": [
      "\n",
      "Step [3000/3000] Loss: 0.000 Time: 42.6\r"
     ]
    },
    {
     "name": "stderr",
     "output_type": "stream",
     "text": [
      " 66%|█████████████████████████▌             | 131/200 [1:33:41<49:18, 42.88s/it]"
     ]
    },
    {
     "name": "stdout",
     "output_type": "stream",
     "text": [
      "\n",
      "Step [3000/3000] Loss: 0.000 Time: 43.5\r"
     ]
    },
    {
     "name": "stderr",
     "output_type": "stream",
     "text": [
      " 66%|█████████████████████████▋             | 132/200 [1:34:24<48:48, 43.07s/it]"
     ]
    },
    {
     "name": "stdout",
     "output_type": "stream",
     "text": [
      "\n",
      "Step [3000/3000] Loss: 0.000 Time: 42.4\r"
     ]
    },
    {
     "name": "stderr",
     "output_type": "stream",
     "text": [
      " 66%|█████████████████████████▉             | 133/200 [1:35:07<47:52, 42.88s/it]"
     ]
    },
    {
     "name": "stdout",
     "output_type": "stream",
     "text": [
      "\n",
      "Step [3000/3000] Loss: 0.000 Time: 42.8\r"
     ]
    },
    {
     "name": "stderr",
     "output_type": "stream",
     "text": [
      " 67%|██████████████████████████▏            | 134/200 [1:35:50<47:07, 42.84s/it]"
     ]
    },
    {
     "name": "stdout",
     "output_type": "stream",
     "text": [
      "\n",
      "Step [3000/3000] Loss: 0.000 Time: 42.9\r"
     ]
    },
    {
     "name": "stderr",
     "output_type": "stream",
     "text": [
      " 68%|██████████████████████████▎            | 135/200 [1:36:33<46:26, 42.87s/it]"
     ]
    },
    {
     "name": "stdout",
     "output_type": "stream",
     "text": [
      "\n",
      "Step [3000/3000] Loss: 0.000 Time: 43.2\r"
     ]
    },
    {
     "name": "stderr",
     "output_type": "stream",
     "text": [
      " 68%|██████████████████████████▌            | 136/200 [1:37:16<45:50, 42.98s/it]"
     ]
    },
    {
     "name": "stdout",
     "output_type": "stream",
     "text": [
      "\n",
      "Step [3000/3000] Loss: 0.000 Time: 43.0\r"
     ]
    },
    {
     "name": "stderr",
     "output_type": "stream",
     "text": [
      " 68%|██████████████████████████▋            | 137/200 [1:37:59<45:07, 42.98s/it]"
     ]
    },
    {
     "name": "stdout",
     "output_type": "stream",
     "text": [
      "\n",
      "Step [3000/3000] Loss: 0.000 Time: 42.8\r"
     ]
    },
    {
     "name": "stderr",
     "output_type": "stream",
     "text": [
      " 69%|██████████████████████████▉            | 138/200 [1:38:42<44:20, 42.91s/it]"
     ]
    },
    {
     "name": "stdout",
     "output_type": "stream",
     "text": [
      "\n",
      "Step [3000/3000] Loss: 0.000 Time: 42.5\r"
     ]
    },
    {
     "name": "stderr",
     "output_type": "stream",
     "text": [
      " 70%|███████████████████████████            | 139/200 [1:39:24<43:30, 42.79s/it]"
     ]
    },
    {
     "name": "stdout",
     "output_type": "stream",
     "text": [
      "\n",
      "Step [3000/3000] Loss: 0.000 Time: 43.0\r"
     ]
    },
    {
     "name": "stderr",
     "output_type": "stream",
     "text": [
      " 70%|███████████████████████████▎           | 140/200 [1:40:07<42:51, 42.86s/it]"
     ]
    },
    {
     "name": "stdout",
     "output_type": "stream",
     "text": [
      "\n",
      "Step [3000/3000] Loss: 0.000 Time: 42.5\r"
     ]
    },
    {
     "name": "stderr",
     "output_type": "stream",
     "text": [
      " 70%|███████████████████████████▍           | 141/200 [1:40:50<42:02, 42.75s/it]"
     ]
    },
    {
     "name": "stdout",
     "output_type": "stream",
     "text": [
      "\n",
      "Step [3000/3000] Loss: 0.000 Time: 42.9\r"
     ]
    },
    {
     "name": "stderr",
     "output_type": "stream",
     "text": [
      " 71%|███████████████████████████▋           | 142/200 [1:41:33<41:22, 42.79s/it]"
     ]
    },
    {
     "name": "stdout",
     "output_type": "stream",
     "text": [
      "\n",
      "Step [3000/3000] Loss: 0.000 Time: 43.0\r"
     ]
    },
    {
     "name": "stderr",
     "output_type": "stream",
     "text": [
      " 72%|███████████████████████████▉           | 143/200 [1:42:16<40:42, 42.86s/it]"
     ]
    },
    {
     "name": "stdout",
     "output_type": "stream",
     "text": [
      "\n",
      "Step [3000/3000] Loss: 0.000 Time: 43.5\r"
     ]
    },
    {
     "name": "stderr",
     "output_type": "stream",
     "text": [
      " 72%|████████████████████████████           | 144/200 [1:42:59<40:10, 43.05s/it]"
     ]
    },
    {
     "name": "stdout",
     "output_type": "stream",
     "text": [
      "\n",
      "Step [3000/3000] Loss: 0.000 Time: 42.0\r"
     ]
    },
    {
     "name": "stderr",
     "output_type": "stream",
     "text": [
      " 72%|████████████████████████████▎          | 145/200 [1:43:41<39:09, 42.72s/it]"
     ]
    },
    {
     "name": "stdout",
     "output_type": "stream",
     "text": [
      "\n",
      "Step [3000/3000] Loss: 0.000 Time: 43.3\r"
     ]
    },
    {
     "name": "stderr",
     "output_type": "stream",
     "text": [
      " 73%|████████████████████████████▍          | 146/200 [1:44:24<38:36, 42.91s/it]"
     ]
    },
    {
     "name": "stdout",
     "output_type": "stream",
     "text": [
      "\n",
      "Step [3000/3000] Loss: 0.000 Time: 42.8\r"
     ]
    },
    {
     "name": "stderr",
     "output_type": "stream",
     "text": [
      " 74%|████████████████████████████▋          | 147/200 [1:45:07<37:51, 42.86s/it]"
     ]
    },
    {
     "name": "stdout",
     "output_type": "stream",
     "text": [
      "\n",
      "Step [3000/3000] Loss: 0.000 Time: 43.3\r"
     ]
    },
    {
     "name": "stderr",
     "output_type": "stream",
     "text": [
      " 74%|████████████████████████████▊          | 148/200 [1:45:50<37:16, 43.01s/it]"
     ]
    },
    {
     "name": "stdout",
     "output_type": "stream",
     "text": [
      "\n",
      "Step [3000/3000] Loss: 0.000 Time: 42.9\r"
     ]
    },
    {
     "name": "stderr",
     "output_type": "stream",
     "text": [
      " 74%|█████████████████████████████          | 149/200 [1:46:33<36:31, 42.98s/it]"
     ]
    },
    {
     "name": "stdout",
     "output_type": "stream",
     "text": [
      "\n",
      "Step [3000/3000] Loss: 0.000 Time: 42.6\r"
     ]
    },
    {
     "name": "stderr",
     "output_type": "stream",
     "text": [
      " 75%|█████████████████████████████▎         | 150/200 [1:47:16<35:42, 42.86s/it]"
     ]
    },
    {
     "name": "stdout",
     "output_type": "stream",
     "text": [
      "\n",
      "Step [3000/3000] Loss: 0.000 Time: 42.9\r"
     ]
    },
    {
     "name": "stderr",
     "output_type": "stream",
     "text": [
      " 76%|█████████████████████████████▍         | 151/200 [1:47:59<35:01, 42.88s/it]"
     ]
    },
    {
     "name": "stdout",
     "output_type": "stream",
     "text": [
      "\n",
      "Step [3000/3000] Loss: 0.000 Time: 43.1\r"
     ]
    },
    {
     "name": "stderr",
     "output_type": "stream",
     "text": [
      " 76%|█████████████████████████████▋         | 152/200 [1:48:42<34:21, 42.94s/it]"
     ]
    },
    {
     "name": "stdout",
     "output_type": "stream",
     "text": [
      "\n",
      "Step [3000/3000] Loss: 0.000 Time: 42.3\r"
     ]
    },
    {
     "name": "stderr",
     "output_type": "stream",
     "text": [
      " 76%|█████████████████████████████▊         | 153/200 [1:49:24<33:29, 42.76s/it]"
     ]
    },
    {
     "name": "stdout",
     "output_type": "stream",
     "text": [
      "\n",
      "Step [3000/3000] Loss: 0.000 Time: 42.7\r"
     ]
    },
    {
     "name": "stderr",
     "output_type": "stream",
     "text": [
      " 77%|██████████████████████████████         | 154/200 [1:50:07<32:45, 42.73s/it]"
     ]
    },
    {
     "name": "stdout",
     "output_type": "stream",
     "text": [
      "\n",
      "Step [3000/3000] Loss: 0.000 Time: 42.9\r"
     ]
    },
    {
     "name": "stderr",
     "output_type": "stream",
     "text": [
      " 78%|██████████████████████████████▏        | 155/200 [1:50:50<32:04, 42.78s/it]"
     ]
    },
    {
     "name": "stdout",
     "output_type": "stream",
     "text": [
      "\n",
      "Step [3000/3000] Loss: 0.000 Time: 42.9\r"
     ]
    },
    {
     "name": "stderr",
     "output_type": "stream",
     "text": [
      " 78%|██████████████████████████████▍        | 156/200 [1:51:33<31:23, 42.80s/it]"
     ]
    },
    {
     "name": "stdout",
     "output_type": "stream",
     "text": [
      "\n",
      "Step [3000/3000] Loss: 0.000 Time: 42.9\r"
     ]
    },
    {
     "name": "stderr",
     "output_type": "stream",
     "text": [
      " 78%|██████████████████████████████▌        | 157/200 [1:52:16<30:42, 42.84s/it]"
     ]
    },
    {
     "name": "stdout",
     "output_type": "stream",
     "text": [
      "\n",
      "Step [3000/3000] Loss: 0.000 Time: 42.9\r"
     ]
    },
    {
     "name": "stderr",
     "output_type": "stream",
     "text": [
      " 79%|██████████████████████████████▊        | 158/200 [1:52:58<29:59, 42.86s/it]"
     ]
    },
    {
     "name": "stdout",
     "output_type": "stream",
     "text": [
      "\n",
      "Step [3000/3000] Loss: 0.000 Time: 42.8\r"
     ]
    },
    {
     "name": "stderr",
     "output_type": "stream",
     "text": [
      " 80%|███████████████████████████████        | 159/200 [1:53:41<29:16, 42.84s/it]"
     ]
    },
    {
     "name": "stdout",
     "output_type": "stream",
     "text": [
      "\n",
      "Step [3000/3000] Loss: 0.000 Time: 43.4\r"
     ]
    },
    {
     "name": "stderr",
     "output_type": "stream",
     "text": [
      " 80%|███████████████████████████████▏       | 160/200 [1:54:25<28:40, 43.01s/it]"
     ]
    },
    {
     "name": "stdout",
     "output_type": "stream",
     "text": [
      "\n",
      "Step [3000/3000] Loss: 0.000 Time: 42.9\r"
     ]
    },
    {
     "name": "stderr",
     "output_type": "stream",
     "text": [
      " 80%|███████████████████████████████▍       | 161/200 [1:55:08<27:56, 42.98s/it]"
     ]
    },
    {
     "name": "stdout",
     "output_type": "stream",
     "text": [
      "\n",
      "Step [3000/3000] Loss: 0.000 Time: 42.5\r"
     ]
    },
    {
     "name": "stderr",
     "output_type": "stream",
     "text": [
      " 81%|███████████████████████████████▌       | 162/200 [1:55:50<27:07, 42.83s/it]"
     ]
    },
    {
     "name": "stdout",
     "output_type": "stream",
     "text": [
      "\n",
      "Step [3000/3000] Loss: 0.000 Time: 42.5\r"
     ]
    },
    {
     "name": "stderr",
     "output_type": "stream",
     "text": [
      " 82%|███████████████████████████████▊       | 163/200 [1:56:33<26:20, 42.73s/it]"
     ]
    },
    {
     "name": "stdout",
     "output_type": "stream",
     "text": [
      "\n",
      "Step [3000/3000] Loss: 0.000 Time: 42.7\r"
     ]
    },
    {
     "name": "stderr",
     "output_type": "stream",
     "text": [
      " 82%|███████████████████████████████▉       | 164/200 [1:57:15<25:37, 42.72s/it]"
     ]
    },
    {
     "name": "stdout",
     "output_type": "stream",
     "text": [
      "\n",
      "Step [3000/3000] Loss: 0.000 Time: 43.6\r"
     ]
    },
    {
     "name": "stderr",
     "output_type": "stream",
     "text": [
      " 82%|████████████████████████████████▏      | 165/200 [1:57:59<25:04, 42.99s/it]"
     ]
    },
    {
     "name": "stdout",
     "output_type": "stream",
     "text": [
      "\n",
      "Step [3000/3000] Loss: 0.000 Time: 43.1\r"
     ]
    },
    {
     "name": "stderr",
     "output_type": "stream",
     "text": [
      " 83%|████████████████████████████████▎      | 166/200 [1:58:42<24:22, 43.02s/it]"
     ]
    },
    {
     "name": "stdout",
     "output_type": "stream",
     "text": [
      "\n",
      "Step [3000/3000] Loss: 0.000 Time: 42.8\r"
     ]
    },
    {
     "name": "stderr",
     "output_type": "stream",
     "text": [
      " 84%|████████████████████████████████▌      | 167/200 [1:59:25<23:38, 42.97s/it]"
     ]
    },
    {
     "name": "stdout",
     "output_type": "stream",
     "text": [
      "\n",
      "Step [3000/3000] Loss: 0.000 Time: 43.0\r"
     ]
    },
    {
     "name": "stderr",
     "output_type": "stream",
     "text": [
      " 84%|████████████████████████████████▊      | 168/200 [2:00:08<22:55, 42.99s/it]"
     ]
    },
    {
     "name": "stdout",
     "output_type": "stream",
     "text": [
      "\n",
      "Step [3000/3000] Loss: 0.000 Time: 42.9\r"
     ]
    },
    {
     "name": "stderr",
     "output_type": "stream",
     "text": [
      " 84%|████████████████████████████████▉      | 169/200 [2:00:51<22:12, 42.97s/it]"
     ]
    },
    {
     "name": "stdout",
     "output_type": "stream",
     "text": [
      "\n",
      "Step [3000/3000] Loss: 0.000 Time: 43.7\r"
     ]
    },
    {
     "name": "stderr",
     "output_type": "stream",
     "text": [
      " 85%|█████████████████████████████████▏     | 170/200 [2:01:35<21:35, 43.20s/it]"
     ]
    },
    {
     "name": "stdout",
     "output_type": "stream",
     "text": [
      "\n",
      "Step [3000/3000] Loss: 0.000 Time: 43.0\r"
     ]
    },
    {
     "name": "stderr",
     "output_type": "stream",
     "text": [
      " 86%|█████████████████████████████████▎     | 171/200 [2:02:17<20:50, 43.13s/it]"
     ]
    },
    {
     "name": "stdout",
     "output_type": "stream",
     "text": [
      "\n",
      "Step [3000/3000] Loss: 0.000 Time: 42.5\r"
     ]
    },
    {
     "name": "stderr",
     "output_type": "stream",
     "text": [
      " 86%|█████████████████████████████████▌     | 172/200 [2:03:00<20:02, 42.95s/it]"
     ]
    },
    {
     "name": "stdout",
     "output_type": "stream",
     "text": [
      "\n",
      "Step [3000/3000] Loss: 0.000 Time: 42.8\r"
     ]
    },
    {
     "name": "stderr",
     "output_type": "stream",
     "text": [
      " 86%|█████████████████████████████████▋     | 173/200 [2:03:43<19:18, 42.91s/it]"
     ]
    },
    {
     "name": "stdout",
     "output_type": "stream",
     "text": [
      "\n",
      "Step [3000/3000] Loss: 0.000 Time: 42.9\r"
     ]
    },
    {
     "name": "stderr",
     "output_type": "stream",
     "text": [
      " 87%|█████████████████████████████████▉     | 174/200 [2:04:26<18:35, 42.92s/it]"
     ]
    },
    {
     "name": "stdout",
     "output_type": "stream",
     "text": [
      "\n",
      "Step [3000/3000] Loss: 0.000 Time: 43.3\r"
     ]
    },
    {
     "name": "stderr",
     "output_type": "stream",
     "text": [
      " 88%|██████████████████████████████████▏    | 175/200 [2:05:09<17:55, 43.02s/it]"
     ]
    },
    {
     "name": "stdout",
     "output_type": "stream",
     "text": [
      "\n",
      "Step [3000/3000] Loss: 0.000 Time: 43.1\r"
     ]
    },
    {
     "name": "stderr",
     "output_type": "stream",
     "text": [
      " 88%|██████████████████████████████████▎    | 176/200 [2:05:52<17:13, 43.06s/it]"
     ]
    },
    {
     "name": "stdout",
     "output_type": "stream",
     "text": [
      "\n",
      "Step [3000/3000] Loss: 0.000 Time: 42.8\r"
     ]
    },
    {
     "name": "stderr",
     "output_type": "stream",
     "text": [
      " 88%|██████████████████████████████████▌    | 177/200 [2:06:35<16:28, 42.99s/it]"
     ]
    },
    {
     "name": "stdout",
     "output_type": "stream",
     "text": [
      "\n",
      "Step [3000/3000] Loss: 0.000 Time: 42.6\r"
     ]
    },
    {
     "name": "stderr",
     "output_type": "stream",
     "text": [
      " 89%|██████████████████████████████████▋    | 178/200 [2:07:18<15:43, 42.87s/it]"
     ]
    },
    {
     "name": "stdout",
     "output_type": "stream",
     "text": [
      "\n",
      "Step [3000/3000] Loss: 0.000 Time: 42.1\r"
     ]
    },
    {
     "name": "stderr",
     "output_type": "stream",
     "text": [
      " 90%|██████████████████████████████████▉    | 179/200 [2:08:00<14:55, 42.65s/it]"
     ]
    },
    {
     "name": "stdout",
     "output_type": "stream",
     "text": [
      "\n",
      "Step [3000/3000] Loss: 0.000 Time: 43.1\r"
     ]
    },
    {
     "name": "stderr",
     "output_type": "stream",
     "text": [
      " 90%|███████████████████████████████████    | 180/200 [2:08:43<14:15, 42.77s/it]"
     ]
    },
    {
     "name": "stdout",
     "output_type": "stream",
     "text": [
      "\n",
      "Step [3000/3000] Loss: 0.000 Time: 42.6\r"
     ]
    },
    {
     "name": "stderr",
     "output_type": "stream",
     "text": [
      " 90%|███████████████████████████████████▎   | 181/200 [2:09:25<13:31, 42.71s/it]"
     ]
    },
    {
     "name": "stdout",
     "output_type": "stream",
     "text": [
      "\n",
      "Step [3000/3000] Loss: 0.000 Time: 43.1\r"
     ]
    },
    {
     "name": "stderr",
     "output_type": "stream",
     "text": [
      " 91%|███████████████████████████████████▍   | 182/200 [2:10:08<12:51, 42.84s/it]"
     ]
    },
    {
     "name": "stdout",
     "output_type": "stream",
     "text": [
      "\n",
      "Step [3000/3000] Loss: 0.000 Time: 43.0\r"
     ]
    },
    {
     "name": "stderr",
     "output_type": "stream",
     "text": [
      " 92%|███████████████████████████████████▋   | 183/200 [2:10:51<12:08, 42.88s/it]"
     ]
    },
    {
     "name": "stdout",
     "output_type": "stream",
     "text": [
      "\n",
      "Step [3000/3000] Loss: 0.000 Time: 43.1\r"
     ]
    },
    {
     "name": "stderr",
     "output_type": "stream",
     "text": [
      " 92%|███████████████████████████████████▉   | 184/200 [2:11:35<11:27, 42.94s/it]"
     ]
    },
    {
     "name": "stdout",
     "output_type": "stream",
     "text": [
      "\n",
      "Step [3000/3000] Loss: 0.000 Time: 42.8\r"
     ]
    },
    {
     "name": "stderr",
     "output_type": "stream",
     "text": [
      " 92%|████████████████████████████████████   | 185/200 [2:12:17<10:43, 42.91s/it]"
     ]
    },
    {
     "name": "stdout",
     "output_type": "stream",
     "text": [
      "\n",
      "Step [3000/3000] Loss: 0.000 Time: 43.3\r"
     ]
    },
    {
     "name": "stderr",
     "output_type": "stream",
     "text": [
      " 93%|████████████████████████████████████▎  | 186/200 [2:13:01<10:02, 43.02s/it]"
     ]
    },
    {
     "name": "stdout",
     "output_type": "stream",
     "text": [
      "\n",
      "Step [3000/3000] Loss: 0.000 Time: 42.6\r"
     ]
    },
    {
     "name": "stderr",
     "output_type": "stream",
     "text": [
      " 94%|████████████████████████████████████▍  | 187/200 [2:13:43<09:17, 42.91s/it]"
     ]
    },
    {
     "name": "stdout",
     "output_type": "stream",
     "text": [
      "\n",
      "Step [3000/3000] Loss: 0.000 Time: 42.5\r"
     ]
    },
    {
     "name": "stderr",
     "output_type": "stream",
     "text": [
      " 94%|████████████████████████████████████▋  | 188/200 [2:14:26<08:33, 42.79s/it]"
     ]
    },
    {
     "name": "stdout",
     "output_type": "stream",
     "text": [
      "\n",
      "Step [3000/3000] Loss: 0.000 Time: 43.1\r"
     ]
    },
    {
     "name": "stderr",
     "output_type": "stream",
     "text": [
      " 94%|████████████████████████████████████▊  | 189/200 [2:15:09<07:51, 42.88s/it]"
     ]
    },
    {
     "name": "stdout",
     "output_type": "stream",
     "text": [
      "\n",
      "Step [3000/3000] Loss: 0.000 Time: 43.3\r"
     ]
    },
    {
     "name": "stderr",
     "output_type": "stream",
     "text": [
      " 95%|█████████████████████████████████████  | 190/200 [2:15:52<07:10, 43.02s/it]"
     ]
    },
    {
     "name": "stdout",
     "output_type": "stream",
     "text": [
      "\n",
      "Step [3000/3000] Loss: 0.000 Time: 43.1\r"
     ]
    },
    {
     "name": "stderr",
     "output_type": "stream",
     "text": [
      " 96%|█████████████████████████████████████▏ | 191/200 [2:16:35<06:27, 43.03s/it]"
     ]
    },
    {
     "name": "stdout",
     "output_type": "stream",
     "text": [
      "\n",
      "Step [3000/3000] Loss: 0.000 Time: 42.8\r"
     ]
    },
    {
     "name": "stderr",
     "output_type": "stream",
     "text": [
      " 96%|█████████████████████████████████████▍ | 192/200 [2:17:18<05:43, 42.97s/it]"
     ]
    },
    {
     "name": "stdout",
     "output_type": "stream",
     "text": [
      "\n",
      "Step [3000/3000] Loss: 0.000 Time: 42.7\r"
     ]
    },
    {
     "name": "stderr",
     "output_type": "stream",
     "text": [
      " 96%|█████████████████████████████████████▋ | 193/200 [2:18:01<05:00, 42.88s/it]"
     ]
    },
    {
     "name": "stdout",
     "output_type": "stream",
     "text": [
      "\n",
      "Step [3000/3000] Loss: 0.000 Time: 42.4\r"
     ]
    },
    {
     "name": "stderr",
     "output_type": "stream",
     "text": [
      " 97%|█████████████████████████████████████▊ | 194/200 [2:18:43<04:16, 42.73s/it]"
     ]
    },
    {
     "name": "stdout",
     "output_type": "stream",
     "text": [
      "\n",
      "Step [3000/3000] Loss: 0.000 Time: 43.5\r"
     ]
    },
    {
     "name": "stderr",
     "output_type": "stream",
     "text": [
      " 98%|██████████████████████████████████████ | 195/200 [2:19:27<03:34, 42.95s/it]"
     ]
    },
    {
     "name": "stdout",
     "output_type": "stream",
     "text": [
      "\n",
      "Step [3000/3000] Loss: 0.000 Time: 42.9\r"
     ]
    },
    {
     "name": "stderr",
     "output_type": "stream",
     "text": [
      " 98%|██████████████████████████████████████▏| 196/200 [2:20:10<02:51, 42.94s/it]"
     ]
    },
    {
     "name": "stdout",
     "output_type": "stream",
     "text": [
      "\n",
      "Step [3000/3000] Loss: 0.000 Time: 42.0\r"
     ]
    },
    {
     "name": "stderr",
     "output_type": "stream",
     "text": [
      " 98%|██████████████████████████████████████▍| 197/200 [2:20:52<02:07, 42.65s/it]"
     ]
    },
    {
     "name": "stdout",
     "output_type": "stream",
     "text": [
      "\n",
      "Step [3000/3000] Loss: 0.000 Time: 42.8\r"
     ]
    },
    {
     "name": "stderr",
     "output_type": "stream",
     "text": [
      " 99%|██████████████████████████████████████▌| 198/200 [2:21:34<01:25, 42.70s/it]"
     ]
    },
    {
     "name": "stdout",
     "output_type": "stream",
     "text": [
      "\n",
      "Step [3000/3000] Loss: 0.000 Time: 43.3\r"
     ]
    },
    {
     "name": "stderr",
     "output_type": "stream",
     "text": [
      "100%|██████████████████████████████████████▊| 199/200 [2:22:18<00:42, 42.89s/it]"
     ]
    },
    {
     "name": "stdout",
     "output_type": "stream",
     "text": [
      "\n",
      "Step [3000/3000] Loss: 0.000 Time: 42.9\r"
     ]
    },
    {
     "name": "stderr",
     "output_type": "stream",
     "text": [
      "100%|███████████████████████████████████████| 200/200 [2:23:01<00:00, 42.91s/it]"
     ]
    },
    {
     "name": "stdout",
     "output_type": "stream",
     "text": [
      "\n",
      "CPU times: user 1d 2h 13min 5s, sys: 1min 49s, total: 1d 2h 14min 54s\n",
      "Wall time: 2h 23min 1s\n"
     ]
    },
    {
     "name": "stderr",
     "output_type": "stream",
     "text": [
      "\n"
     ]
    }
   ],
   "source": [
    "%%time\n",
    "\n",
    "for epoch in tqdm(range(EPOCHS)):\n",
    "    \n",
    "    model.train()\n",
    "    train_loss = 0\n",
    "    t = time.time()\n",
    "    \n",
    "    for step, batch in enumerate(train_dataloader):\n",
    "        word, landmark = batch\n",
    "        word = word  # word는 list여서 GPU로 이동하지 않음\n",
    "        landmark = landmark.cuda()  # landmark는 Tensor이므로 GPU로 이동\n",
    "        \n",
    "        decoder_input = landmark\n",
    "\n",
    "        optimizer.zero_grad()\n",
    "        \n",
    "        output = model(word, decoder_input, 'cuda')\n",
    "        \n",
    "        loss = criterion(output, landmark) \n",
    "        #criterion(output[..., 0:70, :], landmark[..., 0:70, :]) + criterion_pose(output[..., 70:95, :], landmark[..., 70:95, :]) + criterion_hand(output[..., 95:116, :], landmark[..., 95:116, :]) + criterion_hand(output[..., 116:137, :], landmark[..., 116:137, :])\n",
    "        loss.backward()\n",
    "\n",
    "        optimizer.step()\n",
    "            \n",
    "        train_loss += loss.item()\n",
    "        print (\"Step [{}/{}] Loss: {:.3f} Time: {:.1f}\".format(step+1, steps_per_epoch, train_loss/(step+1), time.time()-t),end='\\r',flush=True)\n",
    "        \n",
    "        if epoch > cos_epoch:\n",
    "            scheduler.step()\n",
    "            \n",
    "    print('')\n",
    "    train_loss /= (step+1)"
   ]
  },
  {
   "cell_type": "code",
   "execution_count": 12,
   "id": "a93536fb",
   "metadata": {},
   "outputs": [],
   "source": [
    "torch.save(model.state_dict(), f\"/home/sju/HyoJun/Creative_semester_system/Model/text2sign1.pth\")"
   ]
  },
  {
   "cell_type": "code",
   "execution_count": 13,
   "id": "313a0f65",
   "metadata": {},
   "outputs": [
    {
     "data": {
      "text/plain": [
       "[['고민'],\n",
       " ['뻔뻔'],\n",
       " ['수어'],\n",
       " ['남아'],\n",
       " ['눈'],\n",
       " ['독신'],\n",
       " ['음료수'],\n",
       " ['발가락'],\n",
       " ['슬프다'],\n",
       " ['자극'],\n",
       " ['안타깝다'],\n",
       " ['어색하다'],\n",
       " ['여아'],\n",
       " ['외국인'],\n",
       " ['영아'],\n",
       " ['신사'],\n",
       " ['뉴질랜드'],\n",
       " ['나사렛대학교'],\n",
       " ['알아서'],\n",
       " ['장애인'],\n",
       " ['열아홉번째'],\n",
       " ['침착'],\n",
       " ['성실'],\n",
       " ['학교연혁'],\n",
       " ['싫어하다'],\n",
       " ['급하다'],\n",
       " ['필기시험'],\n",
       " ['병문안'],\n",
       " ['검사'],\n",
       " ['결승전'],\n",
       " ['낚시터'],\n",
       " ['낚시대'],\n",
       " ['당뇨병'],\n",
       " ['독서'],\n",
       " ['매표소'],\n",
       " ['면역'],\n",
       " ['감기'],\n",
       " ['배드민턴'],\n",
       " ['변비'],\n",
       " ['병명'],\n",
       " ['보건소'],\n",
       " ['불면증'],\n",
       " ['불행'],\n",
       " ['붕대'],\n",
       " ['사위'],\n",
       " ['설사'],\n",
       " ['성병'],\n",
       " ['방충'],\n",
       " ['소화제'],\n",
       " ['손녀'],\n",
       " ['손자'],\n",
       " ['수면제'],\n",
       " ['수집가'],\n",
       " ['여행지'],\n",
       " ['예식장'],\n",
       " ['올림픽경기'],\n",
       " ['회복'],\n",
       " ['첫번째'],\n",
       " ['운동경기'],\n",
       " ['입원'],\n",
       " ['재혼'],\n",
       " ['진단서'],\n",
       " ['축구장'],\n",
       " ['치료'],\n",
       " ['치료법'],\n",
       " ['친아들'],\n",
       " ['퇴원'],\n",
       " ['한약'],\n",
       " ['한약방'],\n",
       " ['빈혈'],\n",
       " ['화상'],\n",
       " ['가래떡'],\n",
       " ['고깃국'],\n",
       " ['고추'],\n",
       " ['고추가루'],\n",
       " ['사골'],\n",
       " ['배추국'],\n",
       " ['꽈베기'],\n",
       " ['벌꿀'],\n",
       " ['꿀물'],\n",
       " ['냄비'],\n",
       " ['찬물'],\n",
       " ['다과'],\n",
       " ['지방경찰청장'],\n",
       " ['된장찌게'],\n",
       " ['돼지고기'],\n",
       " ['두부'],\n",
       " ['딸기'],\n",
       " ['떡국'],\n",
       " ['라면'],\n",
       " ['막걸리'],\n",
       " ['무'],\n",
       " ['밥그릇'],\n",
       " ['밥솥'],\n",
       " ['보신탕'],\n",
       " ['부엌'],\n",
       " ['소불고기'],\n",
       " ['비빔밥'],\n",
       " ['사과'],\n",
       " ['사이다'],\n",
       " ['달다'],\n",
       " ['소주'],\n",
       " ['술잔'],\n",
       " ['식당'],\n",
       " ['쌀가루'],\n",
       " ['냉커피'],\n",
       " ['양식'],\n",
       " ['위스키'],\n",
       " ['술'],\n",
       " ['용품'],\n",
       " ['유리그릇'],\n",
       " ['짬뽕'],\n",
       " ['참외'],\n",
       " ['칼국수'],\n",
       " ['커피'],\n",
       " ['콜라'],\n",
       " ['콩가루'],\n",
       " ['통조림'],\n",
       " ['와인'],\n",
       " ['백설기'],\n",
       " ['가죽신'],\n",
       " ['군복'],\n",
       " ['포켓'],\n",
       " ['양산'],\n",
       " ['운동화'],\n",
       " ['잠옷'],\n",
       " ['이불'],\n",
       " ['에어컨'],\n",
       " ['행거'],\n",
       " ['월세'],\n",
       " ['전세'],\n",
       " ['치약'],\n",
       " ['가수'],\n",
       " ['체감'],\n",
       " ['경고'],\n",
       " ['경찰서'],\n",
       " ['공식'],\n",
       " ['과장'],\n",
       " ['관광버스'],\n",
       " ['교수'],\n",
       " ['교장'],\n",
       " ['찻길'],\n",
       " ['독일어'],\n",
       " ['반환'],\n",
       " ['음주운전'],\n",
       " ['동아리'],\n",
       " ['디자이너'],\n",
       " ['마을버스'],\n",
       " ['구급차'],\n",
       " ['개입하지않는다'],\n",
       " ['음주운전'],\n",
       " ['사무'],\n",
       " ['신입학'],\n",
       " ['여객선'],\n",
       " ['여행사'],\n",
       " ['기차역'],\n",
       " ['예술가'],\n",
       " ['외국어'],\n",
       " ['요리사'],\n",
       " ['강요'],\n",
       " ['운동선수'],\n",
       " ['퇴임'],\n",
       " ['의사'],\n",
       " ['이력서'],\n",
       " ['자가용'],\n",
       " ['재택근무'],\n",
       " ['연령제한'],\n",
       " ['주차장'],\n",
       " ['채팅'],\n",
       " ['출근'],\n",
       " ['코치'],\n",
       " ['터미널'],\n",
       " ['근무'],\n",
       " ['통역사'],\n",
       " ['퇴사'],\n",
       " ['사직'],\n",
       " ['판결'],\n",
       " ['평가'],\n",
       " ['두번째'],\n",
       " ['항공사'],\n",
       " ['교통안전교육'],\n",
       " ['화상채팅'],\n",
       " ['회식'],\n",
       " ['교통기본교육'],\n",
       " ['후원'],\n",
       " ['희생'],\n",
       " ['간호사'],\n",
       " ['교통법교육'],\n",
       " ['계약금'],\n",
       " ['고용'],\n",
       " ['사업장'],\n",
       " ['버스값'],\n",
       " ['구직'],\n",
       " ['논'],\n",
       " ['대기업'],\n",
       " ['사육장'],\n",
       " ['백화점'],\n",
       " ['압류'],\n",
       " ['거지'],\n",
       " ['수입'],\n",
       " ['신용카드'],\n",
       " ['백수'],\n",
       " ['아르바이트'],\n",
       " ['샛길'],\n",
       " ['일시불'],\n",
       " ['주유소'],\n",
       " ['집주인'],\n",
       " ['한국은행'],\n",
       " ['경찰청장'],\n",
       " ['가정교육'],\n",
       " ['고등학교'],\n",
       " ['고등학생'],\n",
       " ['교무실'],\n",
       " ['개학'],\n",
       " ['교실'],\n",
       " ['교육자'],\n",
       " ['국어학'],\n",
       " ['낙제'],\n",
       " ['예절'],\n",
       " ['독서실'],\n",
       " ['등교'],\n",
       " ['맹학교'],\n",
       " ['복습'],\n",
       " ['분필'],\n",
       " ['상장'],\n",
       " ['서점'],\n",
       " ['학업'],\n",
       " ['실습'],\n",
       " ['여학교'],\n",
       " ['여학생'],\n",
       " ['연구소'],\n",
       " ['연구실'],\n",
       " ['예습'],\n",
       " ['유학'],\n",
       " ['의학'],\n",
       " ['지도'],\n",
       " ['재학'],\n",
       " ['연구'],\n",
       " ['학부모'],\n",
       " ['학식'],\n",
       " ['훈련'],\n",
       " ['경기도'],\n",
       " ['경기도'],\n",
       " ['경북'],\n",
       " ['남산'],\n",
       " ['울릉도'],\n",
       " ['울산'],\n",
       " ['전남'],\n",
       " ['청주'],\n",
       " ['충북'],\n",
       " ['충남'],\n",
       " ['불경'],\n",
       " ['불경'],\n",
       " ['성경책'],\n",
       " ['신학'],\n",
       " ['장로교'],\n",
       " ['일요일'],\n",
       " ['축하'],\n",
       " ['회개'],\n",
       " ['소감'],\n",
       " ['장난'],\n",
       " ['장인'],\n",
       " ['희생자'],\n",
       " ['디자인'],\n",
       " ['돌무덤'],\n",
       " ['쇠기둥'],\n",
       " ['동화책'],\n",
       " ['목공예'],\n",
       " ['문학'],\n",
       " ['문화유산'],\n",
       " ['음악가'],\n",
       " ['예술'],\n",
       " ['초상화'],\n",
       " ['토기'],\n",
       " ['흑백영화'],\n",
       " ['공군'],\n",
       " ['감옥'],\n",
       " ['국왕'],\n",
       " ['보건복지'],\n",
       " ['고소'],\n",
       " ['유권자'],\n",
       " ['절도죄'],\n",
       " ['수감자'],\n",
       " ['총무'],\n",
       " ['강'],\n",
       " ['달빛'],\n",
       " ['장마'],\n",
       " ['체온'],\n",
       " ['파도'],\n",
       " ['하늘'],\n",
       " ['가시나무'],\n",
       " ['강아지'],\n",
       " ['구렁이'],\n",
       " ['까마귀'],\n",
       " ['꽃씨'],\n",
       " ['꽃잎'],\n",
       " ['웃는척'],\n",
       " ['흡연실'],\n",
       " ['무궁화'],\n",
       " ['밤나무'],\n",
       " ['벚꽃'],\n",
       " ['깃털'],\n",
       " ['솔잎'],\n",
       " ['송아지'],\n",
       " ['소뿔'],\n",
       " ['양털'],\n",
       " ['연꽃'],\n",
       " ['참새'],\n",
       " ['어젯밤'],\n",
       " ['갈색'],\n",
       " ['최상급'],\n",
       " ['공휴일'],\n",
       " ['세번째'],\n",
       " ['네번째'],\n",
       " ['흙내음'],\n",
       " ['금요일'],\n",
       " ['급행'],\n",
       " ['남부지방'],\n",
       " ['식목일'],\n",
       " ['방금'],\n",
       " ['100만원'],\n",
       " ['보라색'],\n",
       " ['분홍조명'],\n",
       " ['분혹색'],\n",
       " ['얼굴이빨개지다'],\n",
       " ['사춘기'],\n",
       " ['3.1절'],\n",
       " ['생년월일'],\n",
       " ['수요일'],\n",
       " ['10만원'],\n",
       " ['어떻게'],\n",
       " ['어린이날'],\n",
       " ['연말'],\n",
       " ['예전'],\n",
       " ['식전'],\n",
       " ['월요일'],\n",
       " ['일요일'],\n",
       " ['자정'],\n",
       " ['아까'],\n",
       " ['진하기'],\n",
       " ['검정머리'],\n",
       " ['최대'],\n",
       " ['최소'],\n",
       " ['평일'],\n",
       " ['한글날'],\n",
       " ['현충일'],\n",
       " ['화요일'],\n",
       " ['황금색'],\n",
       " ['흑백'],\n",
       " ['흑색'],\n",
       " ['임시협약'],\n",
       " ['감금'],\n",
       " ['탈춤'],\n",
       " ['가명'],\n",
       " ['가발'],\n",
       " ['가위바위보'],\n",
       " ['가족회의'],\n",
       " ['가짜'],\n",
       " ['서약서'],\n",
       " ['간편'],\n",
       " ['감옥'],\n",
       " ['감옥살이'],\n",
       " ['보호'],\n",
       " ['견습'],\n",
       " ['강약'],\n",
       " ['강철'],\n",
       " ['개똥'],\n",
       " ['개명'],\n",
       " ['신경쓰다'],\n",
       " ['거목'],\n",
       " ['거북선'],\n",
       " ['거역'],\n",
       " ['거지'],\n",
       " ['건장'],\n",
       " ['걸스카우트'],\n",
       " ['거지'],\n",
       " ['휴학'],\n",
       " ['휴학'],\n",
       " ['회칙'],\n",
       " ['결승전'],\n",
       " ['경찰행정'],\n",
       " ['경비실'],\n",
       " ['고아원'],\n",
       " ['고춧잎'],\n",
       " ['불알'],\n",
       " ['황금기'],\n",
       " ['골절'],\n",
       " ['공식발표'],\n",
       " ['맞추다'],\n",
       " ['공군본부'],\n",
       " ['공범'],\n",
       " ['동거'],\n",
       " ['공증'],\n",
       " ['과로'],\n",
       " ['실수'],\n",
       " ['회상'],\n",
       " ['과태료'],\n",
       " ['관습'],\n",
       " ['직인'],\n",
       " ['정밀검사'],\n",
       " ['대지'],\n",
       " ['광업'],\n",
       " ['미치광이'],\n",
       " ['강풍'],\n",
       " ['환대'],\n",
       " ['교가'],\n",
       " ['교기'],\n",
       " ['지도'],\n",
       " ['교기'],\n",
       " ['교모'],\n",
       " ['지도법'],\n",
       " ['학습'],\n",
       " ['지도'],\n",
       " ['교육과정'],\n",
       " ['교육청'],\n",
       " ['교사직무'],\n",
       " ['사거리'],\n",
       " ['교탁'],\n",
       " ['구두액'],\n",
       " ['수갑'],\n",
       " ['조직도'],\n",
       " ['국그릇'],\n",
       " ['국기'],\n",
       " ['독립'],\n",
       " ['군가'],\n",
       " ['군마'],\n",
       " ['다섯번째'],\n",
       " ['군비행장'],\n",
       " ['독재자'],\n",
       " ['귀부인'],\n",
       " ['상류층'],\n",
       " ['모범'],\n",
       " ['그날'],\n",
       " ['기초확인'],\n",
       " ['금식'],\n",
       " ['얼마'],\n",
       " ['금연'],\n",
       " ['금욕'],\n",
       " ['금주'],\n",
       " ['불쌍'],\n",
       " ['식도염'],\n",
       " ['신기'],\n",
       " ['신기'],\n",
       " ['기혼'],\n",
       " ['귀중품'],\n",
       " ['길몽'],\n",
       " ['길일'],\n",
       " ['길운'],\n",
       " ['고난이도'],\n",
       " ['비좁다'],\n",
       " ['유언'],\n",
       " ['온실'],\n",
       " ['고난이도'],\n",
       " ['날쎄다'],\n",
       " ['비루'],\n",
       " ['쑥쓰럽다'],\n",
       " ['남성적'],\n",
       " ['내정'],\n",
       " ['능숙'],\n",
       " ['대모'],\n",
       " ['농인'],\n",
       " ['다복'],\n",
       " ['결합을끊다'],\n",
       " ['단명'],\n",
       " ['단문'],\n",
       " ['능력자'],\n",
       " ['곰방대'],\n",
       " ['담당'],\n",
       " ['답안지'],\n",
       " ['책임이사'],\n",
       " ['채용자'],\n",
       " ['대교'],\n",
       " ['대독'],\n",
       " ['대필'],\n",
       " ['대성공'],\n",
       " ['세수대야'],\n",
       " ['확정'],\n",
       " ['면적'],\n",
       " ['회장'],\n",
       " ['품격'],\n",
       " ['도벽'],\n",
       " ['도자기기술'],\n",
       " ['자습'],\n",
       " ['돌기둥'],\n",
       " ['돌다리'],\n",
       " ['돌벽'],\n",
       " ['동갑'],\n",
       " ['동메달'],\n",
       " ['주민센터'],\n",
       " ['독특'],\n",
       " ['무덤덤'],\n",
       " ['뒷산'],\n",
       " ['등록금'],\n",
       " ['담당'],\n",
       " ['생각못하다'],\n",
       " ['주문서'],\n",
       " ['마구간'],\n",
       " ['마술사'],\n",
       " ['마스크'],\n",
       " ['마음에들다'],\n",
       " ['막차'],\n",
       " ['만취'],\n",
       " ['나무기둥'],\n",
       " ['의미'],\n",
       " ['실언'],\n",
       " ['말끼어들기'],\n",
       " ['망아지'],\n",
       " ['무매력'],\n",
       " ['확약'],\n",
       " ['고급지다'],\n",
       " ['맷돌'],\n",
       " ['먹'],\n",
       " ['회원'],\n",
       " ['사라지다'],\n",
       " ['명단'],\n",
       " ['명마'],\n",
       " ['명예'],\n",
       " ['모범생'],\n",
       " ['무례'],\n",
       " ['무법자'],\n",
       " ['무료교육'],\n",
       " ['무의미'],\n",
       " ['무인상'],\n",
       " ['무통'],\n",
       " ['무허가'],\n",
       " ['여배우'],\n",
       " ['문잠그다'],\n",
       " ['문제지'],\n",
       " ['상세검색'],\n",
       " ['묻다'],\n",
       " ['물총'],\n",
       " ['물통'],\n",
       " ['미군'],\n",
       " ['미납'],\n",
       " ['미신'],\n",
       " ['미완성'],\n",
       " ['미행'],\n",
       " ['미혼'],\n",
       " ['밀고'],\n",
       " ['밀거래'],\n",
       " ['밀거래단'],\n",
       " ['밀서'],\n",
       " ['밀거래'],\n",
       " ['밀작'],\n",
       " ['확답'],\n",
       " ['반역'],\n",
       " ['반장'],\n",
       " ['발견'],\n",
       " ['발언권'],\n",
       " ['방식'],\n",
       " ['화실'],\n",
       " ['방음'],\n",
       " ['방직'],\n",
       " ['방직공장'],\n",
       " ['정보차단'],\n",
       " ['방도'],\n",
       " ['위로'],\n",
       " ['견습소'],\n",
       " ['배은'],\n",
       " ['결심'],\n",
       " ['백일잔치'],\n",
       " ['번거롭다'],\n",
       " ['출산증가'],\n",
       " ['베다'],\n",
       " ['벌칙사항'],\n",
       " ['소개'],\n",
       " ['별거'],\n",
       " ['별미'],\n",
       " ['병가'],\n",
       " ['병사'],\n",
       " ['쓰러지다'],\n",
       " ['환자실'],\n",
       " ['병아리'],\n",
       " ['군책'],\n",
       " ['보수교육'],\n",
       " ['보이스카우트'],\n",
       " ['부동산'],\n",
       " ['보건복지부'],\n",
       " ['복지카드'],\n",
       " ['희미'],\n",
       " ['부고'],\n",
       " ['무자유'],\n",
       " ['분담'],\n",
       " ['투쟁'],\n",
       " ['여섯번째'],\n",
       " ['가쁘다'],\n",
       " ['무각오'],\n",
       " ['호명'],\n",
       " ['비교연구'],\n",
       " ['비닐하우스'],\n",
       " ['비인간적'],\n",
       " ['자비없다'],\n",
       " ['예금'],\n",
       " ['공석'],\n",
       " ['완벽'],\n",
       " ['속달'],\n",
       " ['삐치다'],\n",
       " ['사감'],\n",
       " ['형제지간'],\n",
       " ['사냥꾼'],\n",
       " ['겉모습'],\n",
       " ['면제'],\n",
       " ['사모님'],\n",
       " ['복사본'],\n",
       " ['사생활'],\n",
       " ['혈통'],\n",
       " ['사립'],\n",
       " ['친척'],\n",
       " ['사용법'],\n",
       " ['친가족'],\n",
       " ['사인'],\n",
       " ['혈액형'],\n",
       " ['부채질'],\n",
       " ['사진작가'],\n",
       " ['과용'],\n",
       " ['사립학교'],\n",
       " ['사후'],\n",
       " ['삭발'],\n",
       " ['38선'],\n",
       " ['상품'],\n",
       " ['새'],\n",
       " ['새똥'],\n",
       " ['새알'],\n",
       " ['새집'],\n",
       " ['색맹'],\n",
       " ['색연필'],\n",
       " ['색종이'],\n",
       " ['학생생활기록부'],\n",
       " ['혈서'],\n",
       " ['후천적'],\n",
       " ['벨트'],\n",
       " ['맹세'],\n",
       " ['서구식'],\n",
       " ['서울역'],\n",
       " ['헤드라이트'],\n",
       " ['편견'],\n",
       " ['정벌'],\n",
       " ['사납다'],\n",
       " ['섬나라'],\n",
       " ['직무대행'],\n",
       " ['성인'],\n",
       " ['연설'],\n",
       " ['연설문'],\n",
       " ['제사'],\n",
       " ['성씨'],\n",
       " ['성조기'],\n",
       " ['성폭행'],\n",
       " ['세뇌'],\n",
       " ['센티미터'],\n",
       " ['소금물'],\n",
       " ['소복'],\n",
       " ['소화불량'],\n",
       " ['송년회'],\n",
       " ['쇄신'],\n",
       " ['수영장'],\n",
       " ['수재'],\n",
       " ['수저통'],\n",
       " ['숙련'],\n",
       " ['야간경비'],\n",
       " ['순금'],\n",
       " ['순산'],\n",
       " ['술값'],\n",
       " ['술집'],\n",
       " ['숨차다'],\n",
       " ['일곱번째'],\n",
       " ['습자'],\n",
       " ['승마복'],\n",
       " ['승패'],\n",
       " ['시댁'],\n",
       " ['시달리다'],\n",
       " ['시차'],\n",
       " ['첫째'],\n",
       " ['시험감독'],\n",
       " ['선별'],\n",
       " ['신식'],\n",
       " ['신체적장애'],\n",
       " ['신통하다'],\n",
       " ['실명'],\n",
       " ['실생활'],\n",
       " ['여덟번째'],\n",
       " ['증거'],\n",
       " ['실천'],\n",
       " ['공개'],\n",
       " ['괴롭다'],\n",
       " ['논의'],\n",
       " ['쌀값'],\n",
       " ['아끼다'],\n",
       " ['고집'],\n",
       " ['통증'],\n",
       " ['악몽'],\n",
       " ['악습'],\n",
       " ['악영향'],\n",
       " ['악용'],\n",
       " ['나빠지다'],\n",
       " ['안경원'],\n",
       " ['안내원'],\n",
       " ['안위'],\n",
       " ['암살'],\n",
       " ['깜깜하다'],\n",
       " ['압정'],\n",
       " ['애국자'],\n",
       " ['안쓰럽다'],\n",
       " ['애착'],\n",
       " ['애처'],\n",
       " ['야구부'],\n",
       " ['건달'],\n",
       " ['약학'],\n",
       " ['얌전하다'],\n",
       " ['양계'],\n",
       " ['일임'],\n",
       " ['경로당'],\n",
       " ['양서'],\n",
       " ['온순하다'],\n",
       " ['형식'],\n",
       " ['숙녀복'],\n",
       " ['양젖'],\n",
       " ['언약'],\n",
       " ['알록달록'],\n",
       " ['깎다'],\n",
       " ['여공'],\n",
       " ['여군'],\n",
       " ['여대생'],\n",
       " ['여성복'],\n",
       " ['여성학과'],\n",
       " ['여경'],\n",
       " ['여탕'],\n",
       " ['연애편지'],\n",
       " ['연초'],\n",
       " ['연패'],\n",
       " ['연합'],\n",
       " ['연하다'],\n",
       " ['영문법'],\n",
       " ['독보적'],\n",
       " ['일반직'],\n",
       " ['예정'],\n",
       " ['오리알'],\n",
       " ['오산'],\n",
       " ['좋다'],\n",
       " ['순종'],\n",
       " ['황소고집'],\n",
       " ['완납'],\n",
       " ['완료'],\n",
       " ['완패'],\n",
       " ['왕족'],\n",
       " ['천황'],\n",
       " ['의문'],\n",
       " ['외상값'],\n",
       " ['외손녀'],\n",
       " ['외손자'],\n",
       " ['요강'],\n",
       " ['주요점'],\n",
       " ['사용처'],\n",
       " ['용사'],\n",
       " ['큰소리'],\n",
       " ['우물'],\n",
       " ['우승'],\n",
       " ['우승자'],\n",
       " ['아홉번째'],\n",
       " ['열번째'],\n",
       " ['열두번째'],\n",
       " ['위임'],\n",
       " ['유대인'],\n",
       " ['유전'],\n",
       " ['유조선'],\n",
       " ['은신처'],\n",
       " ['응접실'],\n",
       " ['정의'],\n",
       " ['지도'],\n",
       " ['회의록'],\n",
       " ['이의'],\n",
       " ['익명'],\n",
       " ['익사'],\n",
       " ['인력'],\n",
       " ['농부'],\n",
       " ['인사법'],\n",
       " ['인자'],\n",
       " ['인증'],\n",
       " ['인질'],\n",
       " ['일본인'],\n",
       " ['열세번째'],\n",
       " ['자막'],\n",
       " ['자살자'],\n",
       " ['자석'],\n",
       " ['경과실'],\n",
       " ['작명'],\n",
       " ['작업복'],\n",
       " ['장단점'],\n",
       " ['장려하다'],\n",
       " ['옷장'],\n",
       " ['장애인연금'],\n",
       " ['장애아동수당'],\n",
       " ['장애유형'],\n",
       " ['장애인기능경기대회'],\n",
       " ['장애인등에대한특수교육법'],\n",
       " ['장애인복지관'],\n",
       " ['장점'],\n",
       " ['장학'],\n",
       " ['재고'],\n",
       " ['목재'],\n",
       " ['재봉틀'],\n",
       " ['복습'],\n",
       " ['재청'],\n",
       " ['무식'],\n",
       " ['저명인사'],\n",
       " ['전기기술자'],\n",
       " ['전기세'],\n",
       " ['전쟁터'],\n",
       " ['전화번호'],\n",
       " ['절수'],\n",
       " ['틀림없다'],\n",
       " ['공식'],\n",
       " ['정신장애'],\n",
       " ['단전'],\n",
       " ['월초'],\n",
       " ['우유'],\n",
       " ['구두'],\n",
       " ['조간신문'],\n",
       " ['조회'],\n",
       " ['졸업장'],\n",
       " ['종소리'],\n",
       " ['종점'],\n",
       " ['주관'],\n",
       " ['주방장'],\n",
       " ['사고방식'],\n",
       " ['알코올중독'],\n",
       " ['준우승'],\n",
       " ['중매'],\n",
       " ['재임'],\n",
       " ['쥐덫'],\n",
       " ['확인서'],\n",
       " ['증원'],\n",
       " ['증인'],\n",
       " ['지급일'],\n",
       " ['총괄자'],\n",
       " ['지팡이'],\n",
       " ['직책'],\n",
       " ['진상'],\n",
       " ['진실'],\n",
       " ['징검다리'],\n",
       " ['가르다'],\n",
       " ['백석'],\n",
       " ['차멀미'],\n",
       " ['복잡하다'],\n",
       " ['참가자'],\n",
       " ['참관'],\n",
       " ['차도'],\n",
       " ['쓸쓸하다'],\n",
       " ['천리'],\n",
       " ['천벌'],\n",
       " ['천연색'],\n",
       " ['철교'],\n",
       " ['철근'],\n",
       " ['철면피'],\n",
       " ['철모'],\n",
       " ['철문'],\n",
       " ['철판'],\n",
       " ['앞서가다'],\n",
       " ['제안'],\n",
       " ['청소당번'],\n",
       " ['청원'],\n",
       " ['청진기'],\n",
       " ['체납'],\n",
       " ['체취'],\n",
       " ['체험'],\n",
       " ['체험담'],\n",
       " ['초대권'],\n",
       " ['초라'],\n",
       " ['초면'],\n",
       " ['초산'],\n",
       " ['초혼'],\n",
       " ['촉진'],\n",
       " ['촛불'],\n",
       " ['총소리'],\n",
       " ['총회'],\n",
       " ['추남'],\n",
       " ['추녀'],\n",
       " ['추수'],\n",
       " ['출석'],\n",
       " ['격노'],\n",
       " ['부추기다'],\n",
       " ['풍성'],\n",
       " ['충성'],\n",
       " ['취객'],\n",
       " ['치과의사'],\n",
       " ['치료제'],\n",
       " ['친자'],\n",
       " ['카지노'],\n",
       " ['칼'],\n",
       " ['칼슘'],\n",
       " ['코코아'],\n",
       " ['콩기름'],\n",
       " ['콩밭'],\n",
       " ['콩잎'],\n",
       " ['군사혁명'],\n",
       " ['키다리'],\n",
       " ['킬로그램'],\n",
       " ['킬로미터'],\n",
       " ['탁구공'],\n",
       " ['탈영'],\n",
       " ['탈환'],\n",
       " ['독서광'],\n",
       " ['탐욕'],\n",
       " ['태극기'],\n",
       " ['총괄'],\n",
       " ['바래다'],\n",
       " ['수감'],\n",
       " ['특권'],\n",
       " ['특명'],\n",
       " ['특선'],\n",
       " ['막히다'],\n",
       " ['건성건성'],\n",
       " ['여분'],\n",
       " ['소심'],\n",
       " ['뽐내다'],\n",
       " ['쇼하다'],\n",
       " ['과시'],\n",
       " ['정성껏'],\n",
       " ['전심전력'],\n",
       " ['적격'],\n",
       " ['추출'],\n",
       " ['드러나다'],\n",
       " ['결점'],\n",
       " ['결점'],\n",
       " ['결점'],\n",
       " ['결점'],\n",
       " ['흠집'],\n",
       " ['불량'],\n",
       " ['계기'],\n",
       " ['걸핏하면'],\n",
       " ['독식'],\n",
       " ['물귀신'],\n",
       " ['매일매일'],\n",
       " ['순식간'],\n",
       " ['촉박'],\n",
       " ['더디다'],\n",
       " ['놓치다'],\n",
       " ['허탕'],\n",
       " ['혹시'],\n",
       " ['밤샘'],\n",
       " ['들어맞다'],\n",
       " ['복귀'],\n",
       " ['학수고대'],\n",
       " ['가다'],\n",
       " ['가다'],\n",
       " ['지름길'],\n",
       " ['가다'],\n",
       " ['사라지다'],\n",
       " ['가깝다'],\n",
       " ['멀다'],\n",
       " ['오래도록'],\n",
       " ['결사'],\n",
       " ['진수성찬'],\n",
       " ['배고프다'],\n",
       " ['입맛에맞지않다'],\n",
       " ['과음'],\n",
       " ['주정뱅이'],\n",
       " ['타이트하다'],\n",
       " ['칩거'],\n",
       " ['대박'],\n",
       " ['저택'],\n",
       " ['궁핍하다'],\n",
       " ['쓰다'],\n",
       " ['옛것'],\n",
       " ['수북하다'],\n",
       " ['회복'],\n",
       " ['녹초'],\n",
       " ['진땀나다'],\n",
       " ['난감하다'],\n",
       " ['마르다'],\n",
       " ['불면'],\n",
       " ['결벽'],\n",
       " ['뙤약볕'],\n",
       " ['못견디다'],\n",
       " ['안심'],\n",
       " ['익숙'],\n",
       " ['이심전심'],\n",
       " ['유명무실'],\n",
       " ['소식'],\n",
       " ['겹치다'],\n",
       " ['첩첩산중'],\n",
       " ['동상이몽'],\n",
       " ['일자무식'],\n",
       " ['싫증나다'],\n",
       " ['일석이조'],\n",
       " ['자승자박'],\n",
       " ['궁지'],\n",
       " ['찰나'],\n",
       " ['순식간'],\n",
       " ['순식간'],\n",
       " ['이미'],\n",
       " ['수포'],\n",
       " ['기세등등'],\n",
       " ['공교롭다'],\n",
       " ['보복'],\n",
       " ['남몰래'],\n",
       " ['근근이'],\n",
       " ['근근이'],\n",
       " ['얻어먹다'],\n",
       " ['황소고집'],\n",
       " ['속다'],\n",
       " ...]"
      ]
     },
     "execution_count": 13,
     "metadata": {},
     "output_type": "execute_result"
    }
   ],
   "source": [
    "words"
   ]
  },
  {
   "cell_type": "code",
   "execution_count": null,
   "id": "a9afea6d",
   "metadata": {},
   "outputs": [
    {
     "ename": "",
     "evalue": "",
     "output_type": "error",
     "traceback": [
      "\u001b[1;31mCannot execute code, session has been disposed. Please try restarting the Kernel."
     ]
    },
    {
     "ename": "",
     "evalue": "",
     "output_type": "error",
     "traceback": [
      "\u001b[1;31mCannot execute code, session has been disposed. Please try restarting the Kernel. \n",
      "\u001b[1;31mView Jupyter <a href='command:jupyter.viewOutput'>log</a> for further details."
     ]
    }
   ],
   "source": [
    "n = 0\n",
    "\n",
    "word = [words[n]]\n",
    "landmark = y_data1[n, ...]"
   ]
  },
  {
   "cell_type": "code",
   "execution_count": null,
   "id": "a5fe38bf",
   "metadata": {},
   "outputs": [
    {
     "ename": "",
     "evalue": "",
     "output_type": "error",
     "traceback": [
      "\u001b[1;31mCannot execute code, session has been disposed. Please try restarting the Kernel."
     ]
    },
    {
     "ename": "",
     "evalue": "",
     "output_type": "error",
     "traceback": [
      "\u001b[1;31mCannot execute code, session has been disposed. Please try restarting the Kernel. \n",
      "\u001b[1;31mView Jupyter <a href='command:jupyter.viewOutput'>log</a> for further details."
     ]
    }
   ],
   "source": [
    "print(word)"
   ]
  },
  {
   "cell_type": "code",
   "execution_count": null,
   "id": "09af3321",
   "metadata": {},
   "outputs": [
    {
     "ename": "",
     "evalue": "",
     "output_type": "error",
     "traceback": [
      "\u001b[1;31mCannot execute code, session has been disposed. Please try restarting the Kernel."
     ]
    },
    {
     "ename": "",
     "evalue": "",
     "output_type": "error",
     "traceback": [
      "\u001b[1;31mCannot execute code, session has been disposed. Please try restarting the Kernel. \n",
      "\u001b[1;31mView Jupyter <a href='command:jupyter.viewOutput'>log</a> for further details."
     ]
    }
   ],
   "source": [
    "landmark.shape"
   ]
  },
  {
   "cell_type": "code",
   "execution_count": 24,
   "id": "db01ea4e",
   "metadata": {},
   "outputs": [
    {
     "name": "stdout",
     "output_type": "stream",
     "text": [
      "(1, 204, 137, 2)\n",
      "CPU times: user 22 s, sys: 5.29 ms, total: 22 s\n",
      "Wall time: 973 ms\n"
     ]
    }
   ],
   "source": [
    "%%time\n",
    "\n",
    "test_dataset = TestDataset(word, landmark[None, ...])\n",
    "test_dataloader = DataLoader(test_dataset, batch_size=1, shuffle=False)\n",
    "\n",
    "model.eval()\n",
    "\n",
    "preds_list = []\n",
    "for batch in test_dataloader:\n",
    "    word, first_frame = batch\n",
    "    word = word\n",
    "    first_frame = first_frame.cuda()\n",
    "    \n",
    "    current_dec_input = first_frame.unsqueeze(1)   #.float()\n",
    "    \n",
    "    for step in range(NUM_FRAMES):  \n",
    "\n",
    "        with torch.no_grad():\n",
    "            output = model(word, current_dec_input, 'cuda')\n",
    "            last_frame = output[:, -1, :, :]  # (B, L, D)\n",
    "            last_frame_unsq = last_frame.unsqueeze(1)  # (B, 1, L, D)\n",
    "            current_dec_input = torch.cat([current_dec_input, last_frame_unsq], dim=1)\n",
    "\n",
    "    final_pred = current_dec_input[:, 1:, :, :]  # (batch, NUM_FRAMES, L, D)\n",
    "\n",
    "    preds_list.append(final_pred.cpu())\n",
    "\n",
    "preds = torch.cat(preds_list, dim=0).numpy()\n",
    "print(preds.shape)"
   ]
  },
  {
   "cell_type": "code",
   "execution_count": 25,
   "id": "1a7aca2e",
   "metadata": {},
   "outputs": [],
   "source": [
    "with open('/home/sju/HyoJun/Creative_semester_system/scalers.pkl', 'rb') as f:\n",
    "    scalers = pickle.load(f)"
   ]
  },
  {
   "cell_type": "code",
   "execution_count": 26,
   "id": "088c20e0-49a2-48d5-8fda-46bfc7acc525",
   "metadata": {},
   "outputs": [
    {
     "name": "stdout",
     "output_type": "stream",
     "text": [
      "Restored y_data shape: (1, 204, 137, 2)\n"
     ]
    }
   ],
   "source": [
    "y_data_restored = []\n",
    "\n",
    "for arr_normalized, scaler in zip(preds, scalers):\n",
    "    arr_restored = scaler.inverse_transform(arr_normalized.reshape(-1, arr_normalized.shape[-1])).reshape(arr_normalized.shape)\n",
    "    y_data_restored.append(arr_restored)\n",
    "\n",
    "y_data_restored = np.array(y_data_restored)\n",
    "print(\"Restored y_data shape:\", y_data_restored.shape)"
   ]
  },
  {
   "cell_type": "code",
   "execution_count": 27,
   "id": "8153015f-b81c-4bc7-b13e-63742321dcb6",
   "metadata": {},
   "outputs": [
    {
     "name": "stdout",
     "output_type": "stream",
     "text": [
      "(1, 204, 137, 2)\n"
     ]
    }
   ],
   "source": [
    "preds_inv = y_data_restored\n",
    "print(preds_inv.shape)\n",
    "np.save(f\"/home/sju/HyoJun/Creative_semester_system/preds/sign_preds{n+1}.npy\", preds_inv)"
   ]
  },
  {
   "cell_type": "code",
   "execution_count": null,
   "id": "860753dc-7d3d-4551-ac65-123ccdb9c252",
   "metadata": {},
   "outputs": [],
   "source": []
  },
  {
   "cell_type": "code",
   "execution_count": null,
   "id": "082fd775",
   "metadata": {},
   "outputs": [],
   "source": []
  }
 ],
 "metadata": {
  "kernelspec": {
   "display_name": "test",
   "language": "python",
   "name": "p3.9"
  },
  "language_info": {
   "codemirror_mode": {
    "name": "ipython",
    "version": 3
   },
   "file_extension": ".py",
   "mimetype": "text/x-python",
   "name": "python",
   "nbconvert_exporter": "python",
   "pygments_lexer": "ipython3",
   "version": "3.9.15"
  }
 },
 "nbformat": 4,
 "nbformat_minor": 5
}
